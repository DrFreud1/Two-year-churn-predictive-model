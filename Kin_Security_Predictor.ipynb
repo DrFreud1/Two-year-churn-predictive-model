{
 "cells": [
  {
   "cell_type": "markdown",
   "metadata": {},
   "source": [
    "# Import all necessary libraries"
   ]
  },
  {
   "cell_type": "code",
   "execution_count": 1,
   "metadata": {
    "executionInfo": {
     "elapsed": 2302,
     "status": "ok",
     "timestamp": 1617122511492,
     "user": {
      "displayName": "SANTIAGO ALEXIS POZO RUIZ",
      "photoUrl": "https://lh3.googleusercontent.com/a-/AOh14GjmwHMd0IYt2BRNluH8bAPyA8mcaYpTtFharMk5fkA=s64",
      "userId": "13986554362570769425"
     },
     "user_tz": 300
    },
    "id": "kQ0YaIeI8kpb"
   },
   "outputs": [],
   "source": [
    "# PyQt5 is useful to print plots outside the notebook\n",
    "# import PyQt5\n",
    "# %config InlineBackend.figure_format = 'retina'\n",
    "# %matplotlib qt5\n",
    "\n",
    "import numpy as np\n",
    "import pandas as pd\n",
    "import matplotlib.pyplot as plt\n",
    "from math import sqrt\n",
    "from datetime import datetime\n",
    "\n",
    "from sklearn.preprocessing import OneHotEncoder, LabelEncoder, StandardScaler \n",
    "from sklearn.metrics import classification_report, plot_confusion_matrix\n",
    "from val_metrics import *\n",
    "\n",
    "# Machine Learning Algorithms\n",
    "from sklearn.model_selection import cross_val_score, ShuffleSplit, train_test_split\n",
    "from sklearn.preprocessing import StandardScaler\n",
    "from sklearn.neural_network import MLPClassifier\n",
    "from sklearn.neighbors import KNeighborsClassifier\n",
    "from sklearn.svm import SVC\n",
    "from sklearn.gaussian_process.kernels import RBF\n",
    "from sklearn.gaussian_process import GaussianProcessClassifier\n",
    "from sklearn.tree import DecisionTreeClassifier\n",
    "from sklearn.ensemble import RandomForestClassifier, AdaBoostClassifier\n",
    "from sklearn.naive_bayes import GaussianNB\n",
    "from sklearn.discriminant_analysis import QuadraticDiscriminantAnalysis"
   ]
  },
  {
   "cell_type": "markdown",
   "metadata": {},
   "source": [
    "# Import tables"
   ]
  },
  {
   "cell_type": "code",
   "execution_count": 2,
   "metadata": {
    "executionInfo": {
     "elapsed": 26810,
     "status": "ok",
     "timestamp": 1617122546522,
     "user": {
      "displayName": "SANTIAGO ALEXIS POZO RUIZ",
      "photoUrl": "https://lh3.googleusercontent.com/a-/AOh14GjmwHMd0IYt2BRNluH8bAPyA8mcaYpTtFharMk5fkA=s64",
      "userId": "13986554362570769425"
     },
     "user_tz": 300
    },
    "id": "OaJtt8jj8kph"
   },
   "outputs": [],
   "source": [
    "tables = ['clients_table', 'products_table', 'transactions_table', 'credit_score_table']\n",
    "\n",
    "for table in tables:\n",
    "    vars()[table] = pd.read_table(table + '.txt',sep=',')"
   ]
  },
  {
   "cell_type": "markdown",
   "metadata": {},
   "source": [
    "Overvierw of clients table"
   ]
  },
  {
   "cell_type": "code",
   "execution_count": 3,
   "metadata": {
    "colab": {
     "base_uri": "https://localhost:8080/",
     "height": 195
    },
    "executionInfo": {
     "elapsed": 593,
     "status": "ok",
     "timestamp": 1617122547144,
     "user": {
      "displayName": "SANTIAGO ALEXIS POZO RUIZ",
      "photoUrl": "https://lh3.googleusercontent.com/a-/AOh14GjmwHMd0IYt2BRNluH8bAPyA8mcaYpTtFharMk5fkA=s64",
      "userId": "13986554362570769425"
     },
     "user_tz": 300
    },
    "id": "3H1WSJmO8kpi",
    "outputId": "68bdc360-0fe5-4c94-8cf2-9f3d267ac282"
   },
   "outputs": [
    {
     "data": {
      "text/html": [
       "<div>\n",
       "<style scoped>\n",
       "    .dataframe tbody tr th:only-of-type {\n",
       "        vertical-align: middle;\n",
       "    }\n",
       "\n",
       "    .dataframe tbody tr th {\n",
       "        vertical-align: top;\n",
       "    }\n",
       "\n",
       "    .dataframe thead th {\n",
       "        text-align: right;\n",
       "    }\n",
       "</style>\n",
       "<table border=\"1\" class=\"dataframe\">\n",
       "  <thead>\n",
       "    <tr style=\"text-align: right;\">\n",
       "      <th></th>\n",
       "      <th>CustomerId</th>\n",
       "      <th>Surname</th>\n",
       "      <th>Geography</th>\n",
       "      <th>Gender</th>\n",
       "      <th>HasCrCard</th>\n",
       "      <th>IsActiveMember</th>\n",
       "      <th>EstimatedSalary</th>\n",
       "      <th>application_date</th>\n",
       "      <th>exit_date</th>\n",
       "      <th>birth_date</th>\n",
       "    </tr>\n",
       "  </thead>\n",
       "  <tbody>\n",
       "    <tr>\n",
       "      <th>0</th>\n",
       "      <td>15745584</td>\n",
       "      <td>EIRLS</td>\n",
       "      <td>Germany</td>\n",
       "      <td>Female</td>\n",
       "      <td>0.0</td>\n",
       "      <td>1.0</td>\n",
       "      <td>0.00</td>\n",
       "      <td>2018-12-14</td>\n",
       "      <td>NaN</td>\n",
       "      <td>1997-09-18</td>\n",
       "    </tr>\n",
       "    <tr>\n",
       "      <th>1</th>\n",
       "      <td>14990118</td>\n",
       "      <td>MOLOCK</td>\n",
       "      <td>Italy</td>\n",
       "      <td>Male</td>\n",
       "      <td>1.0</td>\n",
       "      <td>0.0</td>\n",
       "      <td>121219.28</td>\n",
       "      <td>2019-01-08</td>\n",
       "      <td>NaN</td>\n",
       "      <td>1980-08-03</td>\n",
       "    </tr>\n",
       "    <tr>\n",
       "      <th>2</th>\n",
       "      <td>14733224</td>\n",
       "      <td>PAWLUCH</td>\n",
       "      <td>Italy</td>\n",
       "      <td>Female</td>\n",
       "      <td>1.0</td>\n",
       "      <td>1.0</td>\n",
       "      <td>159663.59</td>\n",
       "      <td>2012-08-01</td>\n",
       "      <td>2013-08-09</td>\n",
       "      <td>1977-08-19</td>\n",
       "    </tr>\n",
       "    <tr>\n",
       "      <th>3</th>\n",
       "      <td>14648573</td>\n",
       "      <td>NALLS</td>\n",
       "      <td>Spain</td>\n",
       "      <td>Male</td>\n",
       "      <td>1.0</td>\n",
       "      <td>0.0</td>\n",
       "      <td>140827.98</td>\n",
       "      <td>2019-06-19</td>\n",
       "      <td>NaN</td>\n",
       "      <td>1979-02-27</td>\n",
       "    </tr>\n",
       "    <tr>\n",
       "      <th>4</th>\n",
       "      <td>15365443</td>\n",
       "      <td>EBERLE</td>\n",
       "      <td>Italy</td>\n",
       "      <td>Male</td>\n",
       "      <td>1.0</td>\n",
       "      <td>0.0</td>\n",
       "      <td>35521.28</td>\n",
       "      <td>2014-01-26</td>\n",
       "      <td>2015-12-04</td>\n",
       "      <td>1972-12-21</td>\n",
       "    </tr>\n",
       "  </tbody>\n",
       "</table>\n",
       "</div>"
      ],
      "text/plain": [
       "   CustomerId  Surname Geography  Gender  HasCrCard  IsActiveMember  \\\n",
       "0    15745584    EIRLS   Germany  Female        0.0             1.0   \n",
       "1    14990118   MOLOCK     Italy    Male        1.0             0.0   \n",
       "2    14733224  PAWLUCH     Italy  Female        1.0             1.0   \n",
       "3    14648573    NALLS     Spain    Male        1.0             0.0   \n",
       "4    15365443   EBERLE     Italy    Male        1.0             0.0   \n",
       "\n",
       "   EstimatedSalary application_date   exit_date  birth_date  \n",
       "0             0.00       2018-12-14         NaN  1997-09-18  \n",
       "1        121219.28       2019-01-08         NaN  1980-08-03  \n",
       "2        159663.59       2012-08-01  2013-08-09  1977-08-19  \n",
       "3        140827.98       2019-06-19         NaN  1979-02-27  \n",
       "4         35521.28       2014-01-26  2015-12-04  1972-12-21  "
      ]
     },
     "execution_count": 3,
     "metadata": {},
     "output_type": "execute_result"
    }
   ],
   "source": [
    "clients_table.head()"
   ]
  },
  {
   "cell_type": "markdown",
   "metadata": {},
   "source": [
    "Overvierw of products table"
   ]
  },
  {
   "cell_type": "code",
   "execution_count": 4,
   "metadata": {
    "colab": {
     "base_uri": "https://localhost:8080/",
     "height": 195
    },
    "executionInfo": {
     "elapsed": 582,
     "status": "ok",
     "timestamp": 1617122547145,
     "user": {
      "displayName": "SANTIAGO ALEXIS POZO RUIZ",
      "photoUrl": "https://lh3.googleusercontent.com/a-/AOh14GjmwHMd0IYt2BRNluH8bAPyA8mcaYpTtFharMk5fkA=s64",
      "userId": "13986554362570769425"
     },
     "user_tz": 300
    },
    "id": "ySSaC1ih8kpj",
    "outputId": "0f015627-123b-4c77-d691-2deb485695b6"
   },
   "outputs": [
    {
     "data": {
      "text/html": [
       "<div>\n",
       "<style scoped>\n",
       "    .dataframe tbody tr th:only-of-type {\n",
       "        vertical-align: middle;\n",
       "    }\n",
       "\n",
       "    .dataframe tbody tr th {\n",
       "        vertical-align: top;\n",
       "    }\n",
       "\n",
       "    .dataframe thead th {\n",
       "        text-align: right;\n",
       "    }\n",
       "</style>\n",
       "<table border=\"1\" class=\"dataframe\">\n",
       "  <thead>\n",
       "    <tr style=\"text-align: right;\">\n",
       "      <th></th>\n",
       "      <th>ContractId</th>\n",
       "      <th>CustomerId</th>\n",
       "      <th>Products</th>\n",
       "    </tr>\n",
       "  </thead>\n",
       "  <tbody>\n",
       "    <tr>\n",
       "      <th>0</th>\n",
       "      <td>5Xo9sCduOGo5EhBYhzKrSlLIA</td>\n",
       "      <td>14993808</td>\n",
       "      <td>Product B</td>\n",
       "    </tr>\n",
       "    <tr>\n",
       "      <th>1</th>\n",
       "      <td>3nQbqbnpTeSkYIJWT1UDe1GZ1</td>\n",
       "      <td>15560417</td>\n",
       "      <td>Product B</td>\n",
       "    </tr>\n",
       "    <tr>\n",
       "      <th>2</th>\n",
       "      <td>PD9KwDPOwyJWO6LJKPGBbkrCz</td>\n",
       "      <td>15406428</td>\n",
       "      <td>Product C</td>\n",
       "    </tr>\n",
       "    <tr>\n",
       "      <th>3</th>\n",
       "      <td>IhS7pz8lu07LCZSqYNlL0fuLP</td>\n",
       "      <td>15604313</td>\n",
       "      <td>Product B</td>\n",
       "    </tr>\n",
       "    <tr>\n",
       "      <th>4</th>\n",
       "      <td>ftUey4oVmkZj8RaBVFH6SNzVM</td>\n",
       "      <td>14952409</td>\n",
       "      <td>Product C</td>\n",
       "    </tr>\n",
       "  </tbody>\n",
       "</table>\n",
       "</div>"
      ],
      "text/plain": [
       "                  ContractId  CustomerId   Products\n",
       "0  5Xo9sCduOGo5EhBYhzKrSlLIA    14993808  Product B\n",
       "1  3nQbqbnpTeSkYIJWT1UDe1GZ1    15560417  Product B\n",
       "2  PD9KwDPOwyJWO6LJKPGBbkrCz    15406428  Product C\n",
       "3  IhS7pz8lu07LCZSqYNlL0fuLP    15604313  Product B\n",
       "4  ftUey4oVmkZj8RaBVFH6SNzVM    14952409  Product C"
      ]
     },
     "execution_count": 4,
     "metadata": {},
     "output_type": "execute_result"
    }
   ],
   "source": [
    "products_table.head()"
   ]
  },
  {
   "cell_type": "markdown",
   "metadata": {},
   "source": [
    "Overvierw of transactions table"
   ]
  },
  {
   "cell_type": "code",
   "execution_count": 5,
   "metadata": {
    "colab": {
     "base_uri": "https://localhost:8080/",
     "height": 195
    },
    "executionInfo": {
     "elapsed": 571,
     "status": "ok",
     "timestamp": 1617122547146,
     "user": {
      "displayName": "SANTIAGO ALEXIS POZO RUIZ",
      "photoUrl": "https://lh3.googleusercontent.com/a-/AOh14GjmwHMd0IYt2BRNluH8bAPyA8mcaYpTtFharMk5fkA=s64",
      "userId": "13986554362570769425"
     },
     "user_tz": 300
    },
    "id": "DUeilmx58kpk",
    "outputId": "34e6a840-aed0-446c-8dcd-1ec575845ae9"
   },
   "outputs": [
    {
     "data": {
      "text/html": [
       "<div>\n",
       "<style scoped>\n",
       "    .dataframe tbody tr th:only-of-type {\n",
       "        vertical-align: middle;\n",
       "    }\n",
       "\n",
       "    .dataframe tbody tr th {\n",
       "        vertical-align: top;\n",
       "    }\n",
       "\n",
       "    .dataframe thead th {\n",
       "        text-align: right;\n",
       "    }\n",
       "</style>\n",
       "<table border=\"1\" class=\"dataframe\">\n",
       "  <thead>\n",
       "    <tr style=\"text-align: right;\">\n",
       "      <th></th>\n",
       "      <th>CustomerId</th>\n",
       "      <th>Transaction</th>\n",
       "      <th>Value</th>\n",
       "    </tr>\n",
       "  </thead>\n",
       "  <tbody>\n",
       "    <tr>\n",
       "      <th>0</th>\n",
       "      <td>15653320</td>\n",
       "      <td>trans_4</td>\n",
       "      <td>-294.03</td>\n",
       "    </tr>\n",
       "    <tr>\n",
       "      <th>1</th>\n",
       "      <td>14955663</td>\n",
       "      <td>trans_3</td>\n",
       "      <td>1297.97</td>\n",
       "    </tr>\n",
       "    <tr>\n",
       "      <th>2</th>\n",
       "      <td>15218505</td>\n",
       "      <td>trans_4</td>\n",
       "      <td>191.28</td>\n",
       "    </tr>\n",
       "    <tr>\n",
       "      <th>3</th>\n",
       "      <td>15391934</td>\n",
       "      <td>trans_3</td>\n",
       "      <td>2299.07</td>\n",
       "    </tr>\n",
       "    <tr>\n",
       "      <th>4</th>\n",
       "      <td>14847291</td>\n",
       "      <td>trans_3</td>\n",
       "      <td>1612.10</td>\n",
       "    </tr>\n",
       "  </tbody>\n",
       "</table>\n",
       "</div>"
      ],
      "text/plain": [
       "   CustomerId Transaction    Value\n",
       "0    15653320     trans_4  -294.03\n",
       "1    14955663     trans_3  1297.97\n",
       "2    15218505     trans_4   191.28\n",
       "3    15391934     trans_3  2299.07\n",
       "4    14847291     trans_3  1612.10"
      ]
     },
     "execution_count": 5,
     "metadata": {},
     "output_type": "execute_result"
    }
   ],
   "source": [
    "transactions_table.head()"
   ]
  },
  {
   "cell_type": "markdown",
   "metadata": {},
   "source": [
    "Overvierw of credit score table"
   ]
  },
  {
   "cell_type": "code",
   "execution_count": 6,
   "metadata": {
    "colab": {
     "base_uri": "https://localhost:8080/",
     "height": 195
    },
    "executionInfo": {
     "elapsed": 698,
     "status": "ok",
     "timestamp": 1617122568130,
     "user": {
      "displayName": "SANTIAGO ALEXIS POZO RUIZ",
      "photoUrl": "https://lh3.googleusercontent.com/a-/AOh14GjmwHMd0IYt2BRNluH8bAPyA8mcaYpTtFharMk5fkA=s64",
      "userId": "13986554362570769425"
     },
     "user_tz": 300
    },
    "id": "JH-xXKfD8kpk",
    "outputId": "589de13d-b594-49be-8ea0-28ebfbf96fad"
   },
   "outputs": [
    {
     "data": {
      "text/html": [
       "<div>\n",
       "<style scoped>\n",
       "    .dataframe tbody tr th:only-of-type {\n",
       "        vertical-align: middle;\n",
       "    }\n",
       "\n",
       "    .dataframe tbody tr th {\n",
       "        vertical-align: top;\n",
       "    }\n",
       "\n",
       "    .dataframe thead th {\n",
       "        text-align: right;\n",
       "    }\n",
       "</style>\n",
       "<table border=\"1\" class=\"dataframe\">\n",
       "  <thead>\n",
       "    <tr style=\"text-align: right;\">\n",
       "      <th></th>\n",
       "      <th>CustomerId</th>\n",
       "      <th>Date</th>\n",
       "      <th>Score</th>\n",
       "    </tr>\n",
       "  </thead>\n",
       "  <tbody>\n",
       "    <tr>\n",
       "      <th>0</th>\n",
       "      <td>14759722</td>\n",
       "      <td>2018-07</td>\n",
       "      <td>717</td>\n",
       "    </tr>\n",
       "    <tr>\n",
       "      <th>1</th>\n",
       "      <td>15907276</td>\n",
       "      <td>2011-09</td>\n",
       "      <td>562</td>\n",
       "    </tr>\n",
       "    <tr>\n",
       "      <th>2</th>\n",
       "      <td>15346641</td>\n",
       "      <td>2013-01</td>\n",
       "      <td>604</td>\n",
       "    </tr>\n",
       "    <tr>\n",
       "      <th>3</th>\n",
       "      <td>15595126</td>\n",
       "      <td>2018-08</td>\n",
       "      <td>469</td>\n",
       "    </tr>\n",
       "    <tr>\n",
       "      <th>4</th>\n",
       "      <td>15227788</td>\n",
       "      <td>2013-09</td>\n",
       "      <td>655</td>\n",
       "    </tr>\n",
       "  </tbody>\n",
       "</table>\n",
       "</div>"
      ],
      "text/plain": [
       "   CustomerId     Date  Score\n",
       "0    14759722  2018-07    717\n",
       "1    15907276  2011-09    562\n",
       "2    15346641  2013-01    604\n",
       "3    15595126  2018-08    469\n",
       "4    15227788  2013-09    655"
      ]
     },
     "execution_count": 6,
     "metadata": {},
     "output_type": "execute_result"
    }
   ],
   "source": [
    "credit_score_table.head()"
   ]
  },
  {
   "cell_type": "markdown",
   "metadata": {},
   "source": [
    "Number of records of clients table"
   ]
  },
  {
   "cell_type": "code",
   "execution_count": 7,
   "metadata": {
    "colab": {
     "base_uri": "https://localhost:8080/"
    },
    "executionInfo": {
     "elapsed": 911,
     "status": "ok",
     "timestamp": 1617122568354,
     "user": {
      "displayName": "SANTIAGO ALEXIS POZO RUIZ",
      "photoUrl": "https://lh3.googleusercontent.com/a-/AOh14GjmwHMd0IYt2BRNluH8bAPyA8mcaYpTtFharMk5fkA=s64",
      "userId": "13986554362570769425"
     },
     "user_tz": 300
    },
    "id": "5duZ-p8H8kpk",
    "outputId": "b68c2870-7f06-4be3-bc15-070f8e0c38ef"
   },
   "outputs": [
    {
     "name": "stdout",
     "output_type": "stream",
     "text": [
      "Number of clients (records) at the beginning (raw data) = 1545000\n"
     ]
    }
   ],
   "source": [
    "print(\"Number of clients (records) at the beginning (raw data) = {}\".format(clients_table.shape[0]))"
   ]
  },
  {
   "cell_type": "markdown",
   "metadata": {
    "id": "H-2suheU8kpl"
   },
   "source": [
    "# Applying Filters on \"Clients dataset\""
   ]
  },
  {
   "cell_type": "markdown",
   "metadata": {},
   "source": [
    "Applying first filter: Clients who have contracts with Kin Security since 2015"
   ]
  },
  {
   "cell_type": "code",
   "execution_count": 8,
   "metadata": {
    "colab": {
     "base_uri": "https://localhost:8080/",
     "height": 212
    },
    "executionInfo": {
     "elapsed": 1635,
     "status": "ok",
     "timestamp": 1617122569086,
     "user": {
      "displayName": "SANTIAGO ALEXIS POZO RUIZ",
      "photoUrl": "https://lh3.googleusercontent.com/a-/AOh14GjmwHMd0IYt2BRNluH8bAPyA8mcaYpTtFharMk5fkA=s64",
      "userId": "13986554362570769425"
     },
     "user_tz": 300
    },
    "id": "PTZ_Ez1L8kpl",
    "outputId": "1b683af7-0e44-43ed-b7a7-ac20088b6132"
   },
   "outputs": [
    {
     "name": "stdout",
     "output_type": "stream",
     "text": [
      "Records in \"clients\" table after first filter = 623242\n"
     ]
    },
    {
     "data": {
      "text/html": [
       "<div>\n",
       "<style scoped>\n",
       "    .dataframe tbody tr th:only-of-type {\n",
       "        vertical-align: middle;\n",
       "    }\n",
       "\n",
       "    .dataframe tbody tr th {\n",
       "        vertical-align: top;\n",
       "    }\n",
       "\n",
       "    .dataframe thead th {\n",
       "        text-align: right;\n",
       "    }\n",
       "</style>\n",
       "<table border=\"1\" class=\"dataframe\">\n",
       "  <thead>\n",
       "    <tr style=\"text-align: right;\">\n",
       "      <th></th>\n",
       "      <th>CustomerId</th>\n",
       "      <th>Surname</th>\n",
       "      <th>Geography</th>\n",
       "      <th>Gender</th>\n",
       "      <th>HasCrCard</th>\n",
       "      <th>IsActiveMember</th>\n",
       "      <th>EstimatedSalary</th>\n",
       "      <th>application_date</th>\n",
       "      <th>exit_date</th>\n",
       "      <th>birth_date</th>\n",
       "    </tr>\n",
       "  </thead>\n",
       "  <tbody>\n",
       "    <tr>\n",
       "      <th>0</th>\n",
       "      <td>15745584</td>\n",
       "      <td>EIRLS</td>\n",
       "      <td>Germany</td>\n",
       "      <td>Female</td>\n",
       "      <td>0.0</td>\n",
       "      <td>1.0</td>\n",
       "      <td>0.00</td>\n",
       "      <td>2018-12-14</td>\n",
       "      <td>NaN</td>\n",
       "      <td>1997-09-18</td>\n",
       "    </tr>\n",
       "    <tr>\n",
       "      <th>1</th>\n",
       "      <td>14990118</td>\n",
       "      <td>MOLOCK</td>\n",
       "      <td>Italy</td>\n",
       "      <td>Male</td>\n",
       "      <td>1.0</td>\n",
       "      <td>0.0</td>\n",
       "      <td>121219.28</td>\n",
       "      <td>2019-01-08</td>\n",
       "      <td>NaN</td>\n",
       "      <td>1980-08-03</td>\n",
       "    </tr>\n",
       "    <tr>\n",
       "      <th>3</th>\n",
       "      <td>14648573</td>\n",
       "      <td>NALLS</td>\n",
       "      <td>Spain</td>\n",
       "      <td>Male</td>\n",
       "      <td>1.0</td>\n",
       "      <td>0.0</td>\n",
       "      <td>140827.98</td>\n",
       "      <td>2019-06-19</td>\n",
       "      <td>NaN</td>\n",
       "      <td>1979-02-27</td>\n",
       "    </tr>\n",
       "    <tr>\n",
       "      <th>5</th>\n",
       "      <td>15638124</td>\n",
       "      <td>BRASHERS</td>\n",
       "      <td>Italy</td>\n",
       "      <td>Female</td>\n",
       "      <td>0.0</td>\n",
       "      <td>0.0</td>\n",
       "      <td>170661.45</td>\n",
       "      <td>2018-02-23</td>\n",
       "      <td>NaN</td>\n",
       "      <td>1983-01-13</td>\n",
       "    </tr>\n",
       "    <tr>\n",
       "      <th>7</th>\n",
       "      <td>14523468</td>\n",
       "      <td>LASKOSKI</td>\n",
       "      <td>Spain</td>\n",
       "      <td>Female</td>\n",
       "      <td>1.0</td>\n",
       "      <td>0.0</td>\n",
       "      <td>158161.23</td>\n",
       "      <td>2017-12-28</td>\n",
       "      <td>2018-11-19</td>\n",
       "      <td>1972-10-30</td>\n",
       "    </tr>\n",
       "  </tbody>\n",
       "</table>\n",
       "</div>"
      ],
      "text/plain": [
       "   CustomerId   Surname Geography  Gender  HasCrCard  IsActiveMember  \\\n",
       "0    15745584     EIRLS   Germany  Female        0.0             1.0   \n",
       "1    14990118    MOLOCK     Italy    Male        1.0             0.0   \n",
       "3    14648573     NALLS     Spain    Male        1.0             0.0   \n",
       "5    15638124  BRASHERS     Italy  Female        0.0             0.0   \n",
       "7    14523468  LASKOSKI     Spain  Female        1.0             0.0   \n",
       "\n",
       "   EstimatedSalary application_date   exit_date  birth_date  \n",
       "0             0.00       2018-12-14         NaN  1997-09-18  \n",
       "1        121219.28       2019-01-08         NaN  1980-08-03  \n",
       "3        140827.98       2019-06-19         NaN  1979-02-27  \n",
       "5        170661.45       2018-02-23         NaN  1983-01-13  \n",
       "7        158161.23       2017-12-28  2018-11-19  1972-10-30  "
      ]
     },
     "execution_count": 8,
     "metadata": {},
     "output_type": "execute_result"
    }
   ],
   "source": [
    "clients_F1 = clients_table.loc[clients_table['application_date'] >= '2015-01-01']\n",
    "\n",
    "print(\"Records in \\\"clients\\\" table after first filter = {}\".format(clients_F1.shape[0]))\n",
    "clients_F1.head()"
   ]
  },
  {
   "cell_type": "markdown",
   "metadata": {},
   "source": [
    "Applying second filter: Removing operations carried out in Italy on 2019"
   ]
  },
  {
   "cell_type": "code",
   "execution_count": 9,
   "metadata": {
    "colab": {
     "base_uri": "https://localhost:8080/",
     "height": 212
    },
    "executionInfo": {
     "elapsed": 1800,
     "status": "ok",
     "timestamp": 1617122569259,
     "user": {
      "displayName": "SANTIAGO ALEXIS POZO RUIZ",
      "photoUrl": "https://lh3.googleusercontent.com/a-/AOh14GjmwHMd0IYt2BRNluH8bAPyA8mcaYpTtFharMk5fkA=s64",
      "userId": "13986554362570769425"
     },
     "user_tz": 300
    },
    "id": "Hr8SpfgO8kpm",
    "outputId": "df9150d8-ec38-42f8-acf4-04d935de82ed"
   },
   "outputs": [
    {
     "name": "stdout",
     "output_type": "stream",
     "text": [
      "Records in \"clients\" table after second filter = 560947\n"
     ]
    },
    {
     "data": {
      "text/html": [
       "<div>\n",
       "<style scoped>\n",
       "    .dataframe tbody tr th:only-of-type {\n",
       "        vertical-align: middle;\n",
       "    }\n",
       "\n",
       "    .dataframe tbody tr th {\n",
       "        vertical-align: top;\n",
       "    }\n",
       "\n",
       "    .dataframe thead th {\n",
       "        text-align: right;\n",
       "    }\n",
       "</style>\n",
       "<table border=\"1\" class=\"dataframe\">\n",
       "  <thead>\n",
       "    <tr style=\"text-align: right;\">\n",
       "      <th></th>\n",
       "      <th>CustomerId</th>\n",
       "      <th>Surname</th>\n",
       "      <th>Geography</th>\n",
       "      <th>Gender</th>\n",
       "      <th>HasCrCard</th>\n",
       "      <th>IsActiveMember</th>\n",
       "      <th>EstimatedSalary</th>\n",
       "      <th>application_date</th>\n",
       "      <th>exit_date</th>\n",
       "      <th>birth_date</th>\n",
       "    </tr>\n",
       "  </thead>\n",
       "  <tbody>\n",
       "    <tr>\n",
       "      <th>0</th>\n",
       "      <td>15745584</td>\n",
       "      <td>EIRLS</td>\n",
       "      <td>Germany</td>\n",
       "      <td>Female</td>\n",
       "      <td>0.0</td>\n",
       "      <td>1.0</td>\n",
       "      <td>0.00</td>\n",
       "      <td>2018-12-14</td>\n",
       "      <td>NaN</td>\n",
       "      <td>1997-09-18</td>\n",
       "    </tr>\n",
       "    <tr>\n",
       "      <th>3</th>\n",
       "      <td>14648573</td>\n",
       "      <td>NALLS</td>\n",
       "      <td>Spain</td>\n",
       "      <td>Male</td>\n",
       "      <td>1.0</td>\n",
       "      <td>0.0</td>\n",
       "      <td>140827.98</td>\n",
       "      <td>2019-06-19</td>\n",
       "      <td>NaN</td>\n",
       "      <td>1979-02-27</td>\n",
       "    </tr>\n",
       "    <tr>\n",
       "      <th>5</th>\n",
       "      <td>15638124</td>\n",
       "      <td>BRASHERS</td>\n",
       "      <td>Italy</td>\n",
       "      <td>Female</td>\n",
       "      <td>0.0</td>\n",
       "      <td>0.0</td>\n",
       "      <td>170661.45</td>\n",
       "      <td>2018-02-23</td>\n",
       "      <td>NaN</td>\n",
       "      <td>1983-01-13</td>\n",
       "    </tr>\n",
       "    <tr>\n",
       "      <th>7</th>\n",
       "      <td>14523468</td>\n",
       "      <td>LASKOSKI</td>\n",
       "      <td>Spain</td>\n",
       "      <td>Female</td>\n",
       "      <td>1.0</td>\n",
       "      <td>0.0</td>\n",
       "      <td>158161.23</td>\n",
       "      <td>2017-12-28</td>\n",
       "      <td>2018-11-19</td>\n",
       "      <td>1972-10-30</td>\n",
       "    </tr>\n",
       "    <tr>\n",
       "      <th>14</th>\n",
       "      <td>15165393</td>\n",
       "      <td>LABIANCA</td>\n",
       "      <td>Spain</td>\n",
       "      <td>Male</td>\n",
       "      <td>1.0</td>\n",
       "      <td>1.0</td>\n",
       "      <td>2612.65</td>\n",
       "      <td>2018-02-22</td>\n",
       "      <td>2019-06-11</td>\n",
       "      <td>1974-07-11</td>\n",
       "    </tr>\n",
       "  </tbody>\n",
       "</table>\n",
       "</div>"
      ],
      "text/plain": [
       "    CustomerId   Surname Geography  Gender  HasCrCard  IsActiveMember  \\\n",
       "0     15745584     EIRLS   Germany  Female        0.0             1.0   \n",
       "3     14648573     NALLS     Spain    Male        1.0             0.0   \n",
       "5     15638124  BRASHERS     Italy  Female        0.0             0.0   \n",
       "7     14523468  LASKOSKI     Spain  Female        1.0             0.0   \n",
       "14    15165393  LABIANCA     Spain    Male        1.0             1.0   \n",
       "\n",
       "    EstimatedSalary application_date   exit_date  birth_date  \n",
       "0              0.00       2018-12-14         NaN  1997-09-18  \n",
       "3         140827.98       2019-06-19         NaN  1979-02-27  \n",
       "5         170661.45       2018-02-23         NaN  1983-01-13  \n",
       "7         158161.23       2017-12-28  2018-11-19  1972-10-30  \n",
       "14          2612.65       2018-02-22  2019-06-11  1974-07-11  "
      ]
     },
     "execution_count": 9,
     "metadata": {},
     "output_type": "execute_result"
    }
   ],
   "source": [
    "clients_F2 = clients_F1.drop(clients_F1[(clients_F1.application_date >='2019-01-01') & \n",
    "                                        (clients_F1.Geography == 'Italy')].index)\n",
    "\n",
    "print(\"Records in \\\"clients\\\" table after second filter = {}\".format(clients_F2.shape[0]))\n",
    "clients_F2.head()"
   ]
  },
  {
   "cell_type": "markdown",
   "metadata": {},
   "source": [
    "Applying third filter: Remove clients with more than 75% of its information missing"
   ]
  },
  {
   "cell_type": "code",
   "execution_count": 10,
   "metadata": {
    "colab": {
     "base_uri": "https://localhost:8080/",
     "height": 212
    },
    "executionInfo": {
     "elapsed": 1981,
     "status": "ok",
     "timestamp": 1617122569452,
     "user": {
      "displayName": "SANTIAGO ALEXIS POZO RUIZ",
      "photoUrl": "https://lh3.googleusercontent.com/a-/AOh14GjmwHMd0IYt2BRNluH8bAPyA8mcaYpTtFharMk5fkA=s64",
      "userId": "13986554362570769425"
     },
     "user_tz": 300
    },
    "id": "41Obzmi08kpm",
    "outputId": "2c62c758-a91b-42ce-abda-dd8fd00541e7"
   },
   "outputs": [
    {
     "name": "stdout",
     "output_type": "stream",
     "text": [
      "Records in \"clients\" table after third filter = 534073\n"
     ]
    },
    {
     "data": {
      "text/html": [
       "<div>\n",
       "<style scoped>\n",
       "    .dataframe tbody tr th:only-of-type {\n",
       "        vertical-align: middle;\n",
       "    }\n",
       "\n",
       "    .dataframe tbody tr th {\n",
       "        vertical-align: top;\n",
       "    }\n",
       "\n",
       "    .dataframe thead th {\n",
       "        text-align: right;\n",
       "    }\n",
       "</style>\n",
       "<table border=\"1\" class=\"dataframe\">\n",
       "  <thead>\n",
       "    <tr style=\"text-align: right;\">\n",
       "      <th></th>\n",
       "      <th>CustomerId</th>\n",
       "      <th>Surname</th>\n",
       "      <th>Geography</th>\n",
       "      <th>Gender</th>\n",
       "      <th>HasCrCard</th>\n",
       "      <th>IsActiveMember</th>\n",
       "      <th>EstimatedSalary</th>\n",
       "      <th>application_date</th>\n",
       "      <th>exit_date</th>\n",
       "      <th>birth_date</th>\n",
       "    </tr>\n",
       "  </thead>\n",
       "  <tbody>\n",
       "    <tr>\n",
       "      <th>0</th>\n",
       "      <td>15745584</td>\n",
       "      <td>EIRLS</td>\n",
       "      <td>Germany</td>\n",
       "      <td>Female</td>\n",
       "      <td>0.0</td>\n",
       "      <td>1.0</td>\n",
       "      <td>0.00</td>\n",
       "      <td>2018-12-14</td>\n",
       "      <td>NaN</td>\n",
       "      <td>1997-09-18</td>\n",
       "    </tr>\n",
       "    <tr>\n",
       "      <th>3</th>\n",
       "      <td>14648573</td>\n",
       "      <td>NALLS</td>\n",
       "      <td>Spain</td>\n",
       "      <td>Male</td>\n",
       "      <td>1.0</td>\n",
       "      <td>0.0</td>\n",
       "      <td>140827.98</td>\n",
       "      <td>2019-06-19</td>\n",
       "      <td>NaN</td>\n",
       "      <td>1979-02-27</td>\n",
       "    </tr>\n",
       "    <tr>\n",
       "      <th>5</th>\n",
       "      <td>15638124</td>\n",
       "      <td>BRASHERS</td>\n",
       "      <td>Italy</td>\n",
       "      <td>Female</td>\n",
       "      <td>0.0</td>\n",
       "      <td>0.0</td>\n",
       "      <td>170661.45</td>\n",
       "      <td>2018-02-23</td>\n",
       "      <td>NaN</td>\n",
       "      <td>1983-01-13</td>\n",
       "    </tr>\n",
       "    <tr>\n",
       "      <th>7</th>\n",
       "      <td>14523468</td>\n",
       "      <td>LASKOSKI</td>\n",
       "      <td>Spain</td>\n",
       "      <td>Female</td>\n",
       "      <td>1.0</td>\n",
       "      <td>0.0</td>\n",
       "      <td>158161.23</td>\n",
       "      <td>2017-12-28</td>\n",
       "      <td>2018-11-19</td>\n",
       "      <td>1972-10-30</td>\n",
       "    </tr>\n",
       "    <tr>\n",
       "      <th>14</th>\n",
       "      <td>15165393</td>\n",
       "      <td>LABIANCA</td>\n",
       "      <td>Spain</td>\n",
       "      <td>Male</td>\n",
       "      <td>1.0</td>\n",
       "      <td>1.0</td>\n",
       "      <td>2612.65</td>\n",
       "      <td>2018-02-22</td>\n",
       "      <td>2019-06-11</td>\n",
       "      <td>1974-07-11</td>\n",
       "    </tr>\n",
       "  </tbody>\n",
       "</table>\n",
       "</div>"
      ],
      "text/plain": [
       "    CustomerId   Surname Geography  Gender  HasCrCard  IsActiveMember  \\\n",
       "0     15745584     EIRLS   Germany  Female        0.0             1.0   \n",
       "3     14648573     NALLS     Spain    Male        1.0             0.0   \n",
       "5     15638124  BRASHERS     Italy  Female        0.0             0.0   \n",
       "7     14523468  LASKOSKI     Spain  Female        1.0             0.0   \n",
       "14    15165393  LABIANCA     Spain    Male        1.0             1.0   \n",
       "\n",
       "    EstimatedSalary application_date   exit_date  birth_date  \n",
       "0              0.00       2018-12-14         NaN  1997-09-18  \n",
       "3         140827.98       2019-06-19         NaN  1979-02-27  \n",
       "5         170661.45       2018-02-23         NaN  1983-01-13  \n",
       "7         158161.23       2017-12-28  2018-11-19  1972-10-30  \n",
       "14          2612.65       2018-02-22  2019-06-11  1974-07-11  "
      ]
     },
     "execution_count": 10,
     "metadata": {},
     "output_type": "execute_result"
    }
   ],
   "source": [
    "clients_F3 = clients_F2.dropna(thresh = int(clients_F2.shape[1]*0.75))\n",
    "\n",
    "print(\"Records in \\\"clients\\\" table after third filter = {}\".format(clients_F3.shape[0]))\n",
    "clients_F3.head()"
   ]
  },
  {
   "cell_type": "markdown",
   "metadata": {},
   "source": [
    "Applying fourth filter: Removing clients who appear more than once in the database (more than one contract)"
   ]
  },
  {
   "cell_type": "code",
   "execution_count": 11,
   "metadata": {
    "colab": {
     "base_uri": "https://localhost:8080/",
     "height": 212
    },
    "executionInfo": {
     "elapsed": 2174,
     "status": "ok",
     "timestamp": 1617122569655,
     "user": {
      "displayName": "SANTIAGO ALEXIS POZO RUIZ",
      "photoUrl": "https://lh3.googleusercontent.com/a-/AOh14GjmwHMd0IYt2BRNluH8bAPyA8mcaYpTtFharMk5fkA=s64",
      "userId": "13986554362570769425"
     },
     "user_tz": 300
    },
    "id": "Oy3OMHLQ8kpm",
    "outputId": "0863c52b-81df-4cf3-fcde-572a411cbd23"
   },
   "outputs": [
    {
     "name": "stdout",
     "output_type": "stream",
     "text": [
      "Records in \"clients\" table after fourth filter = 518501\n"
     ]
    },
    {
     "data": {
      "text/html": [
       "<div>\n",
       "<style scoped>\n",
       "    .dataframe tbody tr th:only-of-type {\n",
       "        vertical-align: middle;\n",
       "    }\n",
       "\n",
       "    .dataframe tbody tr th {\n",
       "        vertical-align: top;\n",
       "    }\n",
       "\n",
       "    .dataframe thead th {\n",
       "        text-align: right;\n",
       "    }\n",
       "</style>\n",
       "<table border=\"1\" class=\"dataframe\">\n",
       "  <thead>\n",
       "    <tr style=\"text-align: right;\">\n",
       "      <th></th>\n",
       "      <th>CustomerId</th>\n",
       "      <th>Surname</th>\n",
       "      <th>Geography</th>\n",
       "      <th>Gender</th>\n",
       "      <th>HasCrCard</th>\n",
       "      <th>IsActiveMember</th>\n",
       "      <th>EstimatedSalary</th>\n",
       "      <th>application_date</th>\n",
       "      <th>exit_date</th>\n",
       "      <th>birth_date</th>\n",
       "    </tr>\n",
       "  </thead>\n",
       "  <tbody>\n",
       "    <tr>\n",
       "      <th>0</th>\n",
       "      <td>15745584</td>\n",
       "      <td>EIRLS</td>\n",
       "      <td>Germany</td>\n",
       "      <td>Female</td>\n",
       "      <td>0.0</td>\n",
       "      <td>1.0</td>\n",
       "      <td>0.00</td>\n",
       "      <td>2018-12-14</td>\n",
       "      <td>NaN</td>\n",
       "      <td>1997-09-18</td>\n",
       "    </tr>\n",
       "    <tr>\n",
       "      <th>3</th>\n",
       "      <td>14648573</td>\n",
       "      <td>NALLS</td>\n",
       "      <td>Spain</td>\n",
       "      <td>Male</td>\n",
       "      <td>1.0</td>\n",
       "      <td>0.0</td>\n",
       "      <td>140827.98</td>\n",
       "      <td>2019-06-19</td>\n",
       "      <td>NaN</td>\n",
       "      <td>1979-02-27</td>\n",
       "    </tr>\n",
       "    <tr>\n",
       "      <th>5</th>\n",
       "      <td>15638124</td>\n",
       "      <td>BRASHERS</td>\n",
       "      <td>Italy</td>\n",
       "      <td>Female</td>\n",
       "      <td>0.0</td>\n",
       "      <td>0.0</td>\n",
       "      <td>170661.45</td>\n",
       "      <td>2018-02-23</td>\n",
       "      <td>NaN</td>\n",
       "      <td>1983-01-13</td>\n",
       "    </tr>\n",
       "    <tr>\n",
       "      <th>7</th>\n",
       "      <td>14523468</td>\n",
       "      <td>LASKOSKI</td>\n",
       "      <td>Spain</td>\n",
       "      <td>Female</td>\n",
       "      <td>1.0</td>\n",
       "      <td>0.0</td>\n",
       "      <td>158161.23</td>\n",
       "      <td>2017-12-28</td>\n",
       "      <td>2018-11-19</td>\n",
       "      <td>1972-10-30</td>\n",
       "    </tr>\n",
       "    <tr>\n",
       "      <th>14</th>\n",
       "      <td>15165393</td>\n",
       "      <td>LABIANCA</td>\n",
       "      <td>Spain</td>\n",
       "      <td>Male</td>\n",
       "      <td>1.0</td>\n",
       "      <td>1.0</td>\n",
       "      <td>2612.65</td>\n",
       "      <td>2018-02-22</td>\n",
       "      <td>2019-06-11</td>\n",
       "      <td>1974-07-11</td>\n",
       "    </tr>\n",
       "  </tbody>\n",
       "</table>\n",
       "</div>"
      ],
      "text/plain": [
       "    CustomerId   Surname Geography  Gender  HasCrCard  IsActiveMember  \\\n",
       "0     15745584     EIRLS   Germany  Female        0.0             1.0   \n",
       "3     14648573     NALLS     Spain    Male        1.0             0.0   \n",
       "5     15638124  BRASHERS     Italy  Female        0.0             0.0   \n",
       "7     14523468  LASKOSKI     Spain  Female        1.0             0.0   \n",
       "14    15165393  LABIANCA     Spain    Male        1.0             1.0   \n",
       "\n",
       "    EstimatedSalary application_date   exit_date  birth_date  \n",
       "0              0.00       2018-12-14         NaN  1997-09-18  \n",
       "3         140827.98       2019-06-19         NaN  1979-02-27  \n",
       "5         170661.45       2018-02-23         NaN  1983-01-13  \n",
       "7         158161.23       2017-12-28  2018-11-19  1972-10-30  \n",
       "14          2612.65       2018-02-22  2019-06-11  1974-07-11  "
      ]
     },
     "execution_count": 11,
     "metadata": {},
     "output_type": "execute_result"
    }
   ],
   "source": [
    "clients_F4 = clients_F3.drop_duplicates(subset=['CustomerId'])\n",
    "\n",
    "print(\"Records in \\\"clients\\\" table after fourth filter = {}\".format(clients_F4.shape[0]))\n",
    "clients_F4.head()"
   ]
  },
  {
   "cell_type": "code",
   "execution_count": 12,
   "metadata": {
    "executionInfo": {
     "elapsed": 2492,
     "status": "ok",
     "timestamp": 1617122569976,
     "user": {
      "displayName": "SANTIAGO ALEXIS POZO RUIZ",
      "photoUrl": "https://lh3.googleusercontent.com/a-/AOh14GjmwHMd0IYt2BRNluH8bAPyA8mcaYpTtFharMk5fkA=s64",
      "userId": "13986554362570769425"
     },
     "user_tz": 300
    },
    "id": "8IHHKBh-8kpn"
   },
   "outputs": [
    {
     "data": {
      "text/plain": [
       "'This line was for confirming that all clients from Italy dissapeared after the fifth filter. This means that no Italian\\nclient have contracts of more than two years at the delivery date'"
      ]
     },
     "execution_count": 12,
     "metadata": {},
     "output_type": "execute_result"
    }
   ],
   "source": [
    "\"\"\"This line was for confirming that all clients from Italy dissapeared after the fifth filter. This means that no Italian\n",
    "client have contracts of more than two years at the delivery date\"\"\"\n",
    "# clients_F4.loc[(clients_F4['Geography'] == 'Italy') & (clients_table['application_date'] <= '2017-12-01')]"
   ]
  },
  {
   "cell_type": "markdown",
   "metadata": {},
   "source": [
    "Applying fifth filter: Just clients with more than two year of information within the database at delivery date are kept"
   ]
  },
  {
   "cell_type": "code",
   "execution_count": 13,
   "metadata": {},
   "outputs": [
    {
     "name": "stdout",
     "output_type": "stream",
     "text": [
      "Records in \"clients\" table after fifth filter = 9997\n"
     ]
    },
    {
     "data": {
      "text/html": [
       "<div>\n",
       "<style scoped>\n",
       "    .dataframe tbody tr th:only-of-type {\n",
       "        vertical-align: middle;\n",
       "    }\n",
       "\n",
       "    .dataframe tbody tr th {\n",
       "        vertical-align: top;\n",
       "    }\n",
       "\n",
       "    .dataframe thead th {\n",
       "        text-align: right;\n",
       "    }\n",
       "</style>\n",
       "<table border=\"1\" class=\"dataframe\">\n",
       "  <thead>\n",
       "    <tr style=\"text-align: right;\">\n",
       "      <th></th>\n",
       "      <th>CustomerId</th>\n",
       "      <th>Surname</th>\n",
       "      <th>Geography</th>\n",
       "      <th>Gender</th>\n",
       "      <th>HasCrCard</th>\n",
       "      <th>IsActiveMember</th>\n",
       "      <th>EstimatedSalary</th>\n",
       "      <th>application_date</th>\n",
       "      <th>exit_date</th>\n",
       "      <th>birth_date</th>\n",
       "    </tr>\n",
       "  </thead>\n",
       "  <tbody>\n",
       "    <tr>\n",
       "      <th>0</th>\n",
       "      <td>15610711</td>\n",
       "      <td>Eluemuno</td>\n",
       "      <td>Germany</td>\n",
       "      <td>Female</td>\n",
       "      <td>0.0</td>\n",
       "      <td>0.0</td>\n",
       "      <td>167673.37</td>\n",
       "      <td>2017-03-05</td>\n",
       "      <td>2019-11-27</td>\n",
       "      <td>1976-10-21</td>\n",
       "    </tr>\n",
       "    <tr>\n",
       "      <th>1</th>\n",
       "      <td>15764170</td>\n",
       "      <td>Pinto</td>\n",
       "      <td>Germany</td>\n",
       "      <td>Male</td>\n",
       "      <td>1.0</td>\n",
       "      <td>0.0</td>\n",
       "      <td>36579.53</td>\n",
       "      <td>2017-02-05</td>\n",
       "      <td>2018-10-11</td>\n",
       "      <td>1972-04-02</td>\n",
       "    </tr>\n",
       "    <tr>\n",
       "      <th>2</th>\n",
       "      <td>15594720</td>\n",
       "      <td>Scott</td>\n",
       "      <td>Germany</td>\n",
       "      <td>Female</td>\n",
       "      <td>1.0</td>\n",
       "      <td>1.0</td>\n",
       "      <td>189339.60</td>\n",
       "      <td>2017-11-08</td>\n",
       "      <td>NaN</td>\n",
       "      <td>1982-05-14</td>\n",
       "    </tr>\n",
       "    <tr>\n",
       "      <th>3</th>\n",
       "      <td>15706552</td>\n",
       "      <td>Odinakachukwu</td>\n",
       "      <td>France</td>\n",
       "      <td>Male</td>\n",
       "      <td>0.0</td>\n",
       "      <td>1.0</td>\n",
       "      <td>156731.91</td>\n",
       "      <td>2016-02-15</td>\n",
       "      <td>2019-10-02</td>\n",
       "      <td>1979-09-09</td>\n",
       "    </tr>\n",
       "    <tr>\n",
       "      <th>4</th>\n",
       "      <td>15785358</td>\n",
       "      <td>Gresswell</td>\n",
       "      <td>Germany</td>\n",
       "      <td>Male</td>\n",
       "      <td>1.0</td>\n",
       "      <td>1.0</td>\n",
       "      <td>79366.98</td>\n",
       "      <td>2016-09-17</td>\n",
       "      <td>2016-12-20</td>\n",
       "      <td>1969-11-11</td>\n",
       "    </tr>\n",
       "  </tbody>\n",
       "</table>\n",
       "</div>"
      ],
      "text/plain": [
       "   CustomerId        Surname Geography  Gender  HasCrCard  IsActiveMember  \\\n",
       "0    15610711       Eluemuno   Germany  Female        0.0             0.0   \n",
       "1    15764170          Pinto   Germany    Male        1.0             0.0   \n",
       "2    15594720          Scott   Germany  Female        1.0             1.0   \n",
       "3    15706552  Odinakachukwu    France    Male        0.0             1.0   \n",
       "4    15785358      Gresswell   Germany    Male        1.0             1.0   \n",
       "\n",
       "   EstimatedSalary application_date   exit_date  birth_date  \n",
       "0        167673.37       2017-03-05  2019-11-27  1976-10-21  \n",
       "1         36579.53       2017-02-05  2018-10-11  1972-04-02  \n",
       "2        189339.60       2017-11-08         NaN  1982-05-14  \n",
       "3        156731.91       2016-02-15  2019-10-02  1979-09-09  \n",
       "4         79366.98       2016-09-17  2016-12-20  1969-11-11  "
      ]
     },
     "execution_count": 13,
     "metadata": {},
     "output_type": "execute_result"
    }
   ],
   "source": [
    "temp = clients_F4.copy() \n",
    "\n",
    "clients_F5 = temp[(np.datetime64('2019-11-30') - pd.to_datetime(temp['application_date'])) > \n",
    "               np.timedelta64(2, 'Y')].reset_index(drop=True)\n",
    "\n",
    "del temp\n",
    "\n",
    "print(\"Records in \\\"clients\\\" table after fifth filter = {}\".format(clients_F5.shape[0]))\n",
    "clients_F5.head()"
   ]
  },
  {
   "cell_type": "markdown",
   "metadata": {
    "id": "VJZu8tGH8kpo"
   },
   "source": [
    "# Calculation of new asked variables"
   ]
  },
  {
   "cell_type": "markdown",
   "metadata": {},
   "source": [
    "Number of products per client at the moment of application."
   ]
  },
  {
   "cell_type": "code",
   "execution_count": 14,
   "metadata": {
    "executionInfo": {
     "elapsed": 4237,
     "status": "ok",
     "timestamp": 1617122571736,
     "user": {
      "displayName": "SANTIAGO ALEXIS POZO RUIZ",
      "photoUrl": "https://lh3.googleusercontent.com/a-/AOh14GjmwHMd0IYt2BRNluH8bAPyA8mcaYpTtFharMk5fkA=s64",
      "userId": "13986554362570769425"
     },
     "user_tz": 300
    },
    "id": "7sEd2qdu8kpo"
   },
   "outputs": [],
   "source": [
    "owned_products = products_table.groupby('CustomerId')['Products'].count()\n",
    "final_table = pd.merge(owned_products, clients_F5, on='CustomerId')"
   ]
  },
  {
   "cell_type": "code",
   "execution_count": 15,
   "metadata": {
    "colab": {
     "base_uri": "https://localhost:8080/",
     "height": 299
    },
    "executionInfo": {
     "elapsed": 4225,
     "status": "ok",
     "timestamp": 1617122571737,
     "user": {
      "displayName": "SANTIAGO ALEXIS POZO RUIZ",
      "photoUrl": "https://lh3.googleusercontent.com/a-/AOh14GjmwHMd0IYt2BRNluH8bAPyA8mcaYpTtFharMk5fkA=s64",
      "userId": "13986554362570769425"
     },
     "user_tz": 300
    },
    "id": "Cm3wLEDG8kpo",
    "outputId": "9d755ce5-80fd-4199-a297-8c699c848927"
   },
   "outputs": [
    {
     "data": {
      "text/html": [
       "<div>\n",
       "<style scoped>\n",
       "    .dataframe tbody tr th:only-of-type {\n",
       "        vertical-align: middle;\n",
       "    }\n",
       "\n",
       "    .dataframe tbody tr th {\n",
       "        vertical-align: top;\n",
       "    }\n",
       "\n",
       "    .dataframe thead th {\n",
       "        text-align: right;\n",
       "    }\n",
       "</style>\n",
       "<table border=\"1\" class=\"dataframe\">\n",
       "  <thead>\n",
       "    <tr style=\"text-align: right;\">\n",
       "      <th></th>\n",
       "      <th>CustomerId</th>\n",
       "      <th>Products</th>\n",
       "      <th>Surname</th>\n",
       "      <th>Geography</th>\n",
       "      <th>Gender</th>\n",
       "      <th>HasCrCard</th>\n",
       "      <th>IsActiveMember</th>\n",
       "      <th>EstimatedSalary</th>\n",
       "      <th>application_date</th>\n",
       "      <th>exit_date</th>\n",
       "      <th>birth_date</th>\n",
       "    </tr>\n",
       "  </thead>\n",
       "  <tbody>\n",
       "    <tr>\n",
       "      <th>0</th>\n",
       "      <td>15565701</td>\n",
       "      <td>1</td>\n",
       "      <td>Ferri</td>\n",
       "      <td>Spain</td>\n",
       "      <td>Female</td>\n",
       "      <td>0.0</td>\n",
       "      <td>0.0</td>\n",
       "      <td>90212.38</td>\n",
       "      <td>2016-01-03</td>\n",
       "      <td>2018-12-15</td>\n",
       "      <td>1976-03-30</td>\n",
       "    </tr>\n",
       "    <tr>\n",
       "      <th>1</th>\n",
       "      <td>15565706</td>\n",
       "      <td>1</td>\n",
       "      <td>Akobundu</td>\n",
       "      <td>Spain</td>\n",
       "      <td>Male</td>\n",
       "      <td>1.0</td>\n",
       "      <td>1.0</td>\n",
       "      <td>83256.26</td>\n",
       "      <td>2016-10-25</td>\n",
       "      <td>2017-09-16</td>\n",
       "      <td>1981-06-30</td>\n",
       "    </tr>\n",
       "    <tr>\n",
       "      <th>2</th>\n",
       "      <td>15565714</td>\n",
       "      <td>2</td>\n",
       "      <td>Cattaneo</td>\n",
       "      <td>France</td>\n",
       "      <td>Male</td>\n",
       "      <td>0.0</td>\n",
       "      <td>1.0</td>\n",
       "      <td>96517.97</td>\n",
       "      <td>2016-02-14</td>\n",
       "      <td>2018-06-11</td>\n",
       "      <td>1968-10-08</td>\n",
       "    </tr>\n",
       "    <tr>\n",
       "      <th>3</th>\n",
       "      <td>15565779</td>\n",
       "      <td>1</td>\n",
       "      <td>Kent</td>\n",
       "      <td>Germany</td>\n",
       "      <td>Female</td>\n",
       "      <td>1.0</td>\n",
       "      <td>0.0</td>\n",
       "      <td>188258.49</td>\n",
       "      <td>2015-05-17</td>\n",
       "      <td>2017-09-11</td>\n",
       "      <td>1985-04-25</td>\n",
       "    </tr>\n",
       "    <tr>\n",
       "      <th>4</th>\n",
       "      <td>15565796</td>\n",
       "      <td>1</td>\n",
       "      <td>Docherty</td>\n",
       "      <td>Germany</td>\n",
       "      <td>Male</td>\n",
       "      <td>1.0</td>\n",
       "      <td>0.0</td>\n",
       "      <td>74510.65</td>\n",
       "      <td>2015-04-04</td>\n",
       "      <td>2018-04-02</td>\n",
       "      <td>1966-12-07</td>\n",
       "    </tr>\n",
       "  </tbody>\n",
       "</table>\n",
       "</div>"
      ],
      "text/plain": [
       "   CustomerId  Products   Surname Geography  Gender  HasCrCard  \\\n",
       "0    15565701         1     Ferri     Spain  Female        0.0   \n",
       "1    15565706         1  Akobundu     Spain    Male        1.0   \n",
       "2    15565714         2  Cattaneo    France    Male        0.0   \n",
       "3    15565779         1      Kent   Germany  Female        1.0   \n",
       "4    15565796         1  Docherty   Germany    Male        1.0   \n",
       "\n",
       "   IsActiveMember  EstimatedSalary application_date   exit_date  birth_date  \n",
       "0             0.0         90212.38       2016-01-03  2018-12-15  1976-03-30  \n",
       "1             1.0         83256.26       2016-10-25  2017-09-16  1981-06-30  \n",
       "2             1.0         96517.97       2016-02-14  2018-06-11  1968-10-08  \n",
       "3             0.0        188258.49       2015-05-17  2017-09-11  1985-04-25  \n",
       "4             0.0         74510.65       2015-04-04  2018-04-02  1966-12-07  "
      ]
     },
     "execution_count": 15,
     "metadata": {},
     "output_type": "execute_result"
    }
   ],
   "source": [
    "final_table.head()"
   ]
  },
  {
   "cell_type": "markdown",
   "metadata": {},
   "source": [
    "Balance in the bank account at the moment of application."
   ]
  },
  {
   "cell_type": "code",
   "execution_count": 16,
   "metadata": {
    "executionInfo": {
     "elapsed": 6124,
     "status": "ok",
     "timestamp": 1617122573640,
     "user": {
      "displayName": "SANTIAGO ALEXIS POZO RUIZ",
      "photoUrl": "https://lh3.googleusercontent.com/a-/AOh14GjmwHMd0IYt2BRNluH8bAPyA8mcaYpTtFharMk5fkA=s64",
      "userId": "13986554362570769425"
     },
     "user_tz": 300
    },
    "id": "T6AIIwUE8kpo"
   },
   "outputs": [],
   "source": [
    "account_balance = round(transactions_table.groupby('CustomerId')['Value'].sum(), 2)\n",
    "final_table = pd.merge(account_balance, final_table, on='CustomerId')"
   ]
  },
  {
   "cell_type": "code",
   "execution_count": 17,
   "metadata": {
    "colab": {
     "base_uri": "https://localhost:8080/",
     "height": 299
    },
    "executionInfo": {
     "elapsed": 6120,
     "status": "ok",
     "timestamp": 1617122573642,
     "user": {
      "displayName": "SANTIAGO ALEXIS POZO RUIZ",
      "photoUrl": "https://lh3.googleusercontent.com/a-/AOh14GjmwHMd0IYt2BRNluH8bAPyA8mcaYpTtFharMk5fkA=s64",
      "userId": "13986554362570769425"
     },
     "user_tz": 300
    },
    "id": "aaZBfrBJ8kpp",
    "outputId": "bcae47a4-25f3-479f-b56e-a242347cfc07"
   },
   "outputs": [
    {
     "data": {
      "text/html": [
       "<div>\n",
       "<style scoped>\n",
       "    .dataframe tbody tr th:only-of-type {\n",
       "        vertical-align: middle;\n",
       "    }\n",
       "\n",
       "    .dataframe tbody tr th {\n",
       "        vertical-align: top;\n",
       "    }\n",
       "\n",
       "    .dataframe thead th {\n",
       "        text-align: right;\n",
       "    }\n",
       "</style>\n",
       "<table border=\"1\" class=\"dataframe\">\n",
       "  <thead>\n",
       "    <tr style=\"text-align: right;\">\n",
       "      <th></th>\n",
       "      <th>CustomerId</th>\n",
       "      <th>Value</th>\n",
       "      <th>Products</th>\n",
       "      <th>Surname</th>\n",
       "      <th>Geography</th>\n",
       "      <th>Gender</th>\n",
       "      <th>HasCrCard</th>\n",
       "      <th>IsActiveMember</th>\n",
       "      <th>EstimatedSalary</th>\n",
       "      <th>application_date</th>\n",
       "      <th>exit_date</th>\n",
       "      <th>birth_date</th>\n",
       "    </tr>\n",
       "  </thead>\n",
       "  <tbody>\n",
       "    <tr>\n",
       "      <th>0</th>\n",
       "      <td>15565701</td>\n",
       "      <td>161993.89</td>\n",
       "      <td>1</td>\n",
       "      <td>Ferri</td>\n",
       "      <td>Spain</td>\n",
       "      <td>Female</td>\n",
       "      <td>0.0</td>\n",
       "      <td>0.0</td>\n",
       "      <td>90212.38</td>\n",
       "      <td>2016-01-03</td>\n",
       "      <td>2018-12-15</td>\n",
       "      <td>1976-03-30</td>\n",
       "    </tr>\n",
       "    <tr>\n",
       "      <th>1</th>\n",
       "      <td>15565706</td>\n",
       "      <td>0.00</td>\n",
       "      <td>1</td>\n",
       "      <td>Akobundu</td>\n",
       "      <td>Spain</td>\n",
       "      <td>Male</td>\n",
       "      <td>1.0</td>\n",
       "      <td>1.0</td>\n",
       "      <td>83256.26</td>\n",
       "      <td>2016-10-25</td>\n",
       "      <td>2017-09-16</td>\n",
       "      <td>1981-06-30</td>\n",
       "    </tr>\n",
       "    <tr>\n",
       "      <th>2</th>\n",
       "      <td>15565714</td>\n",
       "      <td>64430.06</td>\n",
       "      <td>2</td>\n",
       "      <td>Cattaneo</td>\n",
       "      <td>France</td>\n",
       "      <td>Male</td>\n",
       "      <td>0.0</td>\n",
       "      <td>1.0</td>\n",
       "      <td>96517.97</td>\n",
       "      <td>2016-02-14</td>\n",
       "      <td>2018-06-11</td>\n",
       "      <td>1968-10-08</td>\n",
       "    </tr>\n",
       "    <tr>\n",
       "      <th>3</th>\n",
       "      <td>15565779</td>\n",
       "      <td>57809.32</td>\n",
       "      <td>1</td>\n",
       "      <td>Kent</td>\n",
       "      <td>Germany</td>\n",
       "      <td>Female</td>\n",
       "      <td>1.0</td>\n",
       "      <td>0.0</td>\n",
       "      <td>188258.49</td>\n",
       "      <td>2015-05-17</td>\n",
       "      <td>2017-09-11</td>\n",
       "      <td>1985-04-25</td>\n",
       "    </tr>\n",
       "    <tr>\n",
       "      <th>4</th>\n",
       "      <td>15565796</td>\n",
       "      <td>96048.55</td>\n",
       "      <td>1</td>\n",
       "      <td>Docherty</td>\n",
       "      <td>Germany</td>\n",
       "      <td>Male</td>\n",
       "      <td>1.0</td>\n",
       "      <td>0.0</td>\n",
       "      <td>74510.65</td>\n",
       "      <td>2015-04-04</td>\n",
       "      <td>2018-04-02</td>\n",
       "      <td>1966-12-07</td>\n",
       "    </tr>\n",
       "  </tbody>\n",
       "</table>\n",
       "</div>"
      ],
      "text/plain": [
       "   CustomerId      Value  Products   Surname Geography  Gender  HasCrCard  \\\n",
       "0    15565701  161993.89         1     Ferri     Spain  Female        0.0   \n",
       "1    15565706       0.00         1  Akobundu     Spain    Male        1.0   \n",
       "2    15565714   64430.06         2  Cattaneo    France    Male        0.0   \n",
       "3    15565779   57809.32         1      Kent   Germany  Female        1.0   \n",
       "4    15565796   96048.55         1  Docherty   Germany    Male        1.0   \n",
       "\n",
       "   IsActiveMember  EstimatedSalary application_date   exit_date  birth_date  \n",
       "0             0.0         90212.38       2016-01-03  2018-12-15  1976-03-30  \n",
       "1             1.0         83256.26       2016-10-25  2017-09-16  1981-06-30  \n",
       "2             1.0         96517.97       2016-02-14  2018-06-11  1968-10-08  \n",
       "3             0.0        188258.49       2015-05-17  2017-09-11  1985-04-25  \n",
       "4             0.0         74510.65       2015-04-04  2018-04-02  1966-12-07  "
      ]
     },
     "execution_count": 17,
     "metadata": {},
     "output_type": "execute_result"
    }
   ],
   "source": [
    "final_table.head()"
   ]
  },
  {
   "cell_type": "markdown",
   "metadata": {},
   "source": [
    "Score of the credit bureau at the moment of application. Consider it is a monthly score."
   ]
  },
  {
   "cell_type": "code",
   "execution_count": 18,
   "metadata": {
    "executionInfo": {
     "elapsed": 14488,
     "status": "ok",
     "timestamp": 1617122582015,
     "user": {
      "displayName": "SANTIAGO ALEXIS POZO RUIZ",
      "photoUrl": "https://lh3.googleusercontent.com/a-/AOh14GjmwHMd0IYt2BRNluH8bAPyA8mcaYpTtFharMk5fkA=s64",
      "userId": "13986554362570769425"
     },
     "user_tz": 300
    },
    "id": "R7ItuSzn8kpp"
   },
   "outputs": [],
   "source": [
    "credit_score = pd.merge(clients_F5[['CustomerId', 'application_date']], credit_score_table, on='CustomerId')\n",
    "credit_score = credit_score.loc[(pd.to_datetime(credit_score['Date']).dt.year == pd.to_datetime(credit_score['application_date']).dt.year)\n",
    "                               & (pd.to_datetime(credit_score['Date']).dt.month == pd.to_datetime(credit_score['application_date']).dt.month)]\n",
    "credit_score = credit_score.drop(columns = ['application_date', 'Date'])\n",
    "final_table = pd.merge(credit_score, final_table, on='CustomerId')"
   ]
  },
  {
   "cell_type": "code",
   "execution_count": 19,
   "metadata": {
    "colab": {
     "base_uri": "https://localhost:8080/",
     "height": 282
    },
    "executionInfo": {
     "elapsed": 14484,
     "status": "ok",
     "timestamp": 1617122582020,
     "user": {
      "displayName": "SANTIAGO ALEXIS POZO RUIZ",
      "photoUrl": "https://lh3.googleusercontent.com/a-/AOh14GjmwHMd0IYt2BRNluH8bAPyA8mcaYpTtFharMk5fkA=s64",
      "userId": "13986554362570769425"
     },
     "user_tz": 300
    },
    "id": "v6YarkC38kpp",
    "outputId": "6b4e3a14-5fe5-47a4-a6ac-2fa596c3941d"
   },
   "outputs": [
    {
     "data": {
      "text/html": [
       "<div>\n",
       "<style scoped>\n",
       "    .dataframe tbody tr th:only-of-type {\n",
       "        vertical-align: middle;\n",
       "    }\n",
       "\n",
       "    .dataframe tbody tr th {\n",
       "        vertical-align: top;\n",
       "    }\n",
       "\n",
       "    .dataframe thead th {\n",
       "        text-align: right;\n",
       "    }\n",
       "</style>\n",
       "<table border=\"1\" class=\"dataframe\">\n",
       "  <thead>\n",
       "    <tr style=\"text-align: right;\">\n",
       "      <th></th>\n",
       "      <th>CustomerId</th>\n",
       "      <th>Score</th>\n",
       "      <th>Value</th>\n",
       "      <th>Products</th>\n",
       "      <th>Surname</th>\n",
       "      <th>Geography</th>\n",
       "      <th>Gender</th>\n",
       "      <th>HasCrCard</th>\n",
       "      <th>IsActiveMember</th>\n",
       "      <th>EstimatedSalary</th>\n",
       "      <th>application_date</th>\n",
       "      <th>exit_date</th>\n",
       "      <th>birth_date</th>\n",
       "    </tr>\n",
       "  </thead>\n",
       "  <tbody>\n",
       "    <tr>\n",
       "      <th>0</th>\n",
       "      <td>15610711</td>\n",
       "      <td>678</td>\n",
       "      <td>128644.46</td>\n",
       "      <td>1</td>\n",
       "      <td>Eluemuno</td>\n",
       "      <td>Germany</td>\n",
       "      <td>Female</td>\n",
       "      <td>0.0</td>\n",
       "      <td>0.0</td>\n",
       "      <td>167673.37</td>\n",
       "      <td>2017-03-05</td>\n",
       "      <td>2019-11-27</td>\n",
       "      <td>1976-10-21</td>\n",
       "    </tr>\n",
       "    <tr>\n",
       "      <th>1</th>\n",
       "      <td>15764170</td>\n",
       "      <td>647</td>\n",
       "      <td>93960.35</td>\n",
       "      <td>1</td>\n",
       "      <td>Pinto</td>\n",
       "      <td>Germany</td>\n",
       "      <td>Male</td>\n",
       "      <td>1.0</td>\n",
       "      <td>0.0</td>\n",
       "      <td>36579.53</td>\n",
       "      <td>2017-02-05</td>\n",
       "      <td>2018-10-11</td>\n",
       "      <td>1972-04-02</td>\n",
       "    </tr>\n",
       "    <tr>\n",
       "      <th>2</th>\n",
       "      <td>15594720</td>\n",
       "      <td>460</td>\n",
       "      <td>102742.91</td>\n",
       "      <td>2</td>\n",
       "      <td>Scott</td>\n",
       "      <td>Germany</td>\n",
       "      <td>Female</td>\n",
       "      <td>1.0</td>\n",
       "      <td>1.0</td>\n",
       "      <td>189339.60</td>\n",
       "      <td>2017-11-08</td>\n",
       "      <td>NaN</td>\n",
       "      <td>1982-05-14</td>\n",
       "    </tr>\n",
       "    <tr>\n",
       "      <th>3</th>\n",
       "      <td>15706552</td>\n",
       "      <td>533</td>\n",
       "      <td>85311.70</td>\n",
       "      <td>1</td>\n",
       "      <td>Odinakachukwu</td>\n",
       "      <td>France</td>\n",
       "      <td>Male</td>\n",
       "      <td>0.0</td>\n",
       "      <td>1.0</td>\n",
       "      <td>156731.91</td>\n",
       "      <td>2016-02-15</td>\n",
       "      <td>2019-10-02</td>\n",
       "      <td>1979-09-09</td>\n",
       "    </tr>\n",
       "    <tr>\n",
       "      <th>4</th>\n",
       "      <td>15785358</td>\n",
       "      <td>586</td>\n",
       "      <td>106968.96</td>\n",
       "      <td>1</td>\n",
       "      <td>Gresswell</td>\n",
       "      <td>Germany</td>\n",
       "      <td>Male</td>\n",
       "      <td>1.0</td>\n",
       "      <td>1.0</td>\n",
       "      <td>79366.98</td>\n",
       "      <td>2016-09-17</td>\n",
       "      <td>2016-12-20</td>\n",
       "      <td>1969-11-11</td>\n",
       "    </tr>\n",
       "  </tbody>\n",
       "</table>\n",
       "</div>"
      ],
      "text/plain": [
       "   CustomerId  Score      Value  Products        Surname Geography  Gender  \\\n",
       "0    15610711    678  128644.46         1       Eluemuno   Germany  Female   \n",
       "1    15764170    647   93960.35         1          Pinto   Germany    Male   \n",
       "2    15594720    460  102742.91         2          Scott   Germany  Female   \n",
       "3    15706552    533   85311.70         1  Odinakachukwu    France    Male   \n",
       "4    15785358    586  106968.96         1      Gresswell   Germany    Male   \n",
       "\n",
       "   HasCrCard  IsActiveMember  EstimatedSalary application_date   exit_date  \\\n",
       "0        0.0             0.0        167673.37       2017-03-05  2019-11-27   \n",
       "1        1.0             0.0         36579.53       2017-02-05  2018-10-11   \n",
       "2        1.0             1.0        189339.60       2017-11-08         NaN   \n",
       "3        0.0             1.0        156731.91       2016-02-15  2019-10-02   \n",
       "4        1.0             1.0         79366.98       2016-09-17  2016-12-20   \n",
       "\n",
       "   birth_date  \n",
       "0  1976-10-21  \n",
       "1  1972-04-02  \n",
       "2  1982-05-14  \n",
       "3  1979-09-09  \n",
       "4  1969-11-11  "
      ]
     },
     "execution_count": 19,
     "metadata": {},
     "output_type": "execute_result"
    }
   ],
   "source": [
    "final_table.head()"
   ]
  },
  {
   "cell_type": "markdown",
   "metadata": {},
   "source": [
    "Age of the client at the moment of application."
   ]
  },
  {
   "cell_type": "code",
   "execution_count": 20,
   "metadata": {
    "executionInfo": {
     "elapsed": 14482,
     "status": "ok",
     "timestamp": 1617122582021,
     "user": {
      "displayName": "SANTIAGO ALEXIS POZO RUIZ",
      "photoUrl": "https://lh3.googleusercontent.com/a-/AOh14GjmwHMd0IYt2BRNluH8bAPyA8mcaYpTtFharMk5fkA=s64",
      "userId": "13986554362570769425"
     },
     "user_tz": 300
    },
    "id": "rv_GH9Jb8kpp"
   },
   "outputs": [],
   "source": [
    "final_table['age'] = pd.to_datetime(final_table['application_date']).dt.year - pd.to_datetime(final_table['birth_date']).dt.year"
   ]
  },
  {
   "cell_type": "code",
   "execution_count": 21,
   "metadata": {
    "colab": {
     "base_uri": "https://localhost:8080/",
     "height": 282
    },
    "executionInfo": {
     "elapsed": 14472,
     "status": "ok",
     "timestamp": 1617122582022,
     "user": {
      "displayName": "SANTIAGO ALEXIS POZO RUIZ",
      "photoUrl": "https://lh3.googleusercontent.com/a-/AOh14GjmwHMd0IYt2BRNluH8bAPyA8mcaYpTtFharMk5fkA=s64",
      "userId": "13986554362570769425"
     },
     "user_tz": 300
    },
    "id": "v2VyFKVx8kpq",
    "outputId": "2f1aaecf-5a27-44e1-a57b-68b3f95f95e9",
    "scrolled": true
   },
   "outputs": [
    {
     "data": {
      "text/html": [
       "<div>\n",
       "<style scoped>\n",
       "    .dataframe tbody tr th:only-of-type {\n",
       "        vertical-align: middle;\n",
       "    }\n",
       "\n",
       "    .dataframe tbody tr th {\n",
       "        vertical-align: top;\n",
       "    }\n",
       "\n",
       "    .dataframe thead th {\n",
       "        text-align: right;\n",
       "    }\n",
       "</style>\n",
       "<table border=\"1\" class=\"dataframe\">\n",
       "  <thead>\n",
       "    <tr style=\"text-align: right;\">\n",
       "      <th></th>\n",
       "      <th>CustomerId</th>\n",
       "      <th>Score</th>\n",
       "      <th>Value</th>\n",
       "      <th>Products</th>\n",
       "      <th>Surname</th>\n",
       "      <th>Geography</th>\n",
       "      <th>Gender</th>\n",
       "      <th>HasCrCard</th>\n",
       "      <th>IsActiveMember</th>\n",
       "      <th>EstimatedSalary</th>\n",
       "      <th>application_date</th>\n",
       "      <th>exit_date</th>\n",
       "      <th>birth_date</th>\n",
       "      <th>age</th>\n",
       "    </tr>\n",
       "  </thead>\n",
       "  <tbody>\n",
       "    <tr>\n",
       "      <th>0</th>\n",
       "      <td>15610711</td>\n",
       "      <td>678</td>\n",
       "      <td>128644.46</td>\n",
       "      <td>1</td>\n",
       "      <td>Eluemuno</td>\n",
       "      <td>Germany</td>\n",
       "      <td>Female</td>\n",
       "      <td>0.0</td>\n",
       "      <td>0.0</td>\n",
       "      <td>167673.37</td>\n",
       "      <td>2017-03-05</td>\n",
       "      <td>2019-11-27</td>\n",
       "      <td>1976-10-21</td>\n",
       "      <td>41</td>\n",
       "    </tr>\n",
       "    <tr>\n",
       "      <th>1</th>\n",
       "      <td>15764170</td>\n",
       "      <td>647</td>\n",
       "      <td>93960.35</td>\n",
       "      <td>1</td>\n",
       "      <td>Pinto</td>\n",
       "      <td>Germany</td>\n",
       "      <td>Male</td>\n",
       "      <td>1.0</td>\n",
       "      <td>0.0</td>\n",
       "      <td>36579.53</td>\n",
       "      <td>2017-02-05</td>\n",
       "      <td>2018-10-11</td>\n",
       "      <td>1972-04-02</td>\n",
       "      <td>45</td>\n",
       "    </tr>\n",
       "    <tr>\n",
       "      <th>2</th>\n",
       "      <td>15594720</td>\n",
       "      <td>460</td>\n",
       "      <td>102742.91</td>\n",
       "      <td>2</td>\n",
       "      <td>Scott</td>\n",
       "      <td>Germany</td>\n",
       "      <td>Female</td>\n",
       "      <td>1.0</td>\n",
       "      <td>1.0</td>\n",
       "      <td>189339.60</td>\n",
       "      <td>2017-11-08</td>\n",
       "      <td>NaN</td>\n",
       "      <td>1982-05-14</td>\n",
       "      <td>35</td>\n",
       "    </tr>\n",
       "    <tr>\n",
       "      <th>3</th>\n",
       "      <td>15706552</td>\n",
       "      <td>533</td>\n",
       "      <td>85311.70</td>\n",
       "      <td>1</td>\n",
       "      <td>Odinakachukwu</td>\n",
       "      <td>France</td>\n",
       "      <td>Male</td>\n",
       "      <td>0.0</td>\n",
       "      <td>1.0</td>\n",
       "      <td>156731.91</td>\n",
       "      <td>2016-02-15</td>\n",
       "      <td>2019-10-02</td>\n",
       "      <td>1979-09-09</td>\n",
       "      <td>37</td>\n",
       "    </tr>\n",
       "    <tr>\n",
       "      <th>4</th>\n",
       "      <td>15785358</td>\n",
       "      <td>586</td>\n",
       "      <td>106968.96</td>\n",
       "      <td>1</td>\n",
       "      <td>Gresswell</td>\n",
       "      <td>Germany</td>\n",
       "      <td>Male</td>\n",
       "      <td>1.0</td>\n",
       "      <td>1.0</td>\n",
       "      <td>79366.98</td>\n",
       "      <td>2016-09-17</td>\n",
       "      <td>2016-12-20</td>\n",
       "      <td>1969-11-11</td>\n",
       "      <td>47</td>\n",
       "    </tr>\n",
       "  </tbody>\n",
       "</table>\n",
       "</div>"
      ],
      "text/plain": [
       "   CustomerId  Score      Value  Products        Surname Geography  Gender  \\\n",
       "0    15610711    678  128644.46         1       Eluemuno   Germany  Female   \n",
       "1    15764170    647   93960.35         1          Pinto   Germany    Male   \n",
       "2    15594720    460  102742.91         2          Scott   Germany  Female   \n",
       "3    15706552    533   85311.70         1  Odinakachukwu    France    Male   \n",
       "4    15785358    586  106968.96         1      Gresswell   Germany    Male   \n",
       "\n",
       "   HasCrCard  IsActiveMember  EstimatedSalary application_date   exit_date  \\\n",
       "0        0.0             0.0        167673.37       2017-03-05  2019-11-27   \n",
       "1        1.0             0.0         36579.53       2017-02-05  2018-10-11   \n",
       "2        1.0             1.0        189339.60       2017-11-08         NaN   \n",
       "3        0.0             1.0        156731.91       2016-02-15  2019-10-02   \n",
       "4        1.0             1.0         79366.98       2016-09-17  2016-12-20   \n",
       "\n",
       "   birth_date  age  \n",
       "0  1976-10-21   41  \n",
       "1  1972-04-02   45  \n",
       "2  1982-05-14   35  \n",
       "3  1979-09-09   37  \n",
       "4  1969-11-11   47  "
      ]
     },
     "execution_count": 21,
     "metadata": {},
     "output_type": "execute_result"
    }
   ],
   "source": [
    "final_table.head()"
   ]
  },
  {
   "cell_type": "markdown",
   "metadata": {},
   "source": [
    "Append these new variables to the Clients data set"
   ]
  },
  {
   "cell_type": "code",
   "execution_count": 22,
   "metadata": {
    "colab": {
     "base_uri": "https://localhost:8080/",
     "height": 282
    },
    "executionInfo": {
     "elapsed": 14687,
     "status": "ok",
     "timestamp": 1617122582247,
     "user": {
      "displayName": "SANTIAGO ALEXIS POZO RUIZ",
      "photoUrl": "https://lh3.googleusercontent.com/a-/AOh14GjmwHMd0IYt2BRNluH8bAPyA8mcaYpTtFharMk5fkA=s64",
      "userId": "13986554362570769425"
     },
     "user_tz": 300
    },
    "id": "phKtyBO88kpq",
    "outputId": "1775f4db-1b43-47bd-fb81-84b16f14b890"
   },
   "outputs": [
    {
     "data": {
      "text/html": [
       "<div>\n",
       "<style scoped>\n",
       "    .dataframe tbody tr th:only-of-type {\n",
       "        vertical-align: middle;\n",
       "    }\n",
       "\n",
       "    .dataframe tbody tr th {\n",
       "        vertical-align: top;\n",
       "    }\n",
       "\n",
       "    .dataframe thead th {\n",
       "        text-align: right;\n",
       "    }\n",
       "</style>\n",
       "<table border=\"1\" class=\"dataframe\">\n",
       "  <thead>\n",
       "    <tr style=\"text-align: right;\">\n",
       "      <th></th>\n",
       "      <th>CustomerId</th>\n",
       "      <th>Surname</th>\n",
       "      <th>Geography</th>\n",
       "      <th>Gender</th>\n",
       "      <th>HasCrCard</th>\n",
       "      <th>IsActiveMember</th>\n",
       "      <th>EstimatedSalary</th>\n",
       "      <th>application_date</th>\n",
       "      <th>exit_date</th>\n",
       "      <th>birth_date</th>\n",
       "      <th>credit_score</th>\n",
       "      <th>account_balance</th>\n",
       "      <th>number_of_products</th>\n",
       "      <th>age</th>\n",
       "    </tr>\n",
       "  </thead>\n",
       "  <tbody>\n",
       "    <tr>\n",
       "      <th>0</th>\n",
       "      <td>15610711</td>\n",
       "      <td>Eluemuno</td>\n",
       "      <td>Germany</td>\n",
       "      <td>Female</td>\n",
       "      <td>0.0</td>\n",
       "      <td>0.0</td>\n",
       "      <td>167673.37</td>\n",
       "      <td>2017-03-05</td>\n",
       "      <td>2019-11-27</td>\n",
       "      <td>1976-10-21</td>\n",
       "      <td>678</td>\n",
       "      <td>128644.46</td>\n",
       "      <td>1</td>\n",
       "      <td>41</td>\n",
       "    </tr>\n",
       "    <tr>\n",
       "      <th>1</th>\n",
       "      <td>15764170</td>\n",
       "      <td>Pinto</td>\n",
       "      <td>Germany</td>\n",
       "      <td>Male</td>\n",
       "      <td>1.0</td>\n",
       "      <td>0.0</td>\n",
       "      <td>36579.53</td>\n",
       "      <td>2017-02-05</td>\n",
       "      <td>2018-10-11</td>\n",
       "      <td>1972-04-02</td>\n",
       "      <td>647</td>\n",
       "      <td>93960.35</td>\n",
       "      <td>1</td>\n",
       "      <td>45</td>\n",
       "    </tr>\n",
       "    <tr>\n",
       "      <th>2</th>\n",
       "      <td>15594720</td>\n",
       "      <td>Scott</td>\n",
       "      <td>Germany</td>\n",
       "      <td>Female</td>\n",
       "      <td>1.0</td>\n",
       "      <td>1.0</td>\n",
       "      <td>189339.60</td>\n",
       "      <td>2017-11-08</td>\n",
       "      <td>NaN</td>\n",
       "      <td>1982-05-14</td>\n",
       "      <td>460</td>\n",
       "      <td>102742.91</td>\n",
       "      <td>2</td>\n",
       "      <td>35</td>\n",
       "    </tr>\n",
       "    <tr>\n",
       "      <th>3</th>\n",
       "      <td>15706552</td>\n",
       "      <td>Odinakachukwu</td>\n",
       "      <td>France</td>\n",
       "      <td>Male</td>\n",
       "      <td>0.0</td>\n",
       "      <td>1.0</td>\n",
       "      <td>156731.91</td>\n",
       "      <td>2016-02-15</td>\n",
       "      <td>2019-10-02</td>\n",
       "      <td>1979-09-09</td>\n",
       "      <td>533</td>\n",
       "      <td>85311.70</td>\n",
       "      <td>1</td>\n",
       "      <td>37</td>\n",
       "    </tr>\n",
       "    <tr>\n",
       "      <th>4</th>\n",
       "      <td>15785358</td>\n",
       "      <td>Gresswell</td>\n",
       "      <td>Germany</td>\n",
       "      <td>Male</td>\n",
       "      <td>1.0</td>\n",
       "      <td>1.0</td>\n",
       "      <td>79366.98</td>\n",
       "      <td>2016-09-17</td>\n",
       "      <td>2016-12-20</td>\n",
       "      <td>1969-11-11</td>\n",
       "      <td>586</td>\n",
       "      <td>106968.96</td>\n",
       "      <td>1</td>\n",
       "      <td>47</td>\n",
       "    </tr>\n",
       "  </tbody>\n",
       "</table>\n",
       "</div>"
      ],
      "text/plain": [
       "   CustomerId        Surname Geography  Gender  HasCrCard  IsActiveMember  \\\n",
       "0    15610711       Eluemuno   Germany  Female        0.0             0.0   \n",
       "1    15764170          Pinto   Germany    Male        1.0             0.0   \n",
       "2    15594720          Scott   Germany  Female        1.0             1.0   \n",
       "3    15706552  Odinakachukwu    France    Male        0.0             1.0   \n",
       "4    15785358      Gresswell   Germany    Male        1.0             1.0   \n",
       "\n",
       "   EstimatedSalary application_date   exit_date  birth_date  credit_score  \\\n",
       "0        167673.37       2017-03-05  2019-11-27  1976-10-21           678   \n",
       "1         36579.53       2017-02-05  2018-10-11  1972-04-02           647   \n",
       "2        189339.60       2017-11-08         NaN  1982-05-14           460   \n",
       "3        156731.91       2016-02-15  2019-10-02  1979-09-09           533   \n",
       "4         79366.98       2016-09-17  2016-12-20  1969-11-11           586   \n",
       "\n",
       "   account_balance  number_of_products  age  \n",
       "0        128644.46                   1   41  \n",
       "1         93960.35                   1   45  \n",
       "2        102742.91                   2   35  \n",
       "3         85311.70                   1   37  \n",
       "4        106968.96                   1   47  "
      ]
     },
     "execution_count": 22,
     "metadata": {},
     "output_type": "execute_result"
    }
   ],
   "source": [
    "final_table = final_table[[c for c in final_table if c not in ['Score', 'Value', 'Products', 'age']] \n",
    "       + ['Score', 'Value', 'Products', 'age']]\n",
    "clients_final_table = final_table.rename(columns = {'Score': 'credit_score', 'Value': 'account_balance',\n",
    "                                                   'Products': 'number_of_products'}, inplace = False)\n",
    "del final_table\n",
    "clients_final_table.head()"
   ]
  },
  {
   "cell_type": "markdown",
   "metadata": {},
   "source": [
    "Find descriptive Statistics of these new variables: Mean, standard deviation, maximum and minimum"
   ]
  },
  {
   "cell_type": "code",
   "execution_count": 23,
   "metadata": {
    "colab": {
     "base_uri": "https://localhost:8080/",
     "height": 166
    },
    "executionInfo": {
     "elapsed": 15017,
     "status": "ok",
     "timestamp": 1617122582584,
     "user": {
      "displayName": "SANTIAGO ALEXIS POZO RUIZ",
      "photoUrl": "https://lh3.googleusercontent.com/a-/AOh14GjmwHMd0IYt2BRNluH8bAPyA8mcaYpTtFharMk5fkA=s64",
      "userId": "13986554362570769425"
     },
     "user_tz": 300
    },
    "id": "DgdtROzx8kpq",
    "outputId": "68a79d53-db64-4345-fc92-25135dc5bf51"
   },
   "outputs": [
    {
     "data": {
      "text/html": [
       "<div>\n",
       "<style scoped>\n",
       "    .dataframe tbody tr th:only-of-type {\n",
       "        vertical-align: middle;\n",
       "    }\n",
       "\n",
       "    .dataframe tbody tr th {\n",
       "        vertical-align: top;\n",
       "    }\n",
       "\n",
       "    .dataframe thead th {\n",
       "        text-align: right;\n",
       "    }\n",
       "</style>\n",
       "<table border=\"1\" class=\"dataframe\">\n",
       "  <thead>\n",
       "    <tr style=\"text-align: right;\">\n",
       "      <th></th>\n",
       "      <th>Account Balance</th>\n",
       "      <th>Credit Score</th>\n",
       "      <th>Number of Products</th>\n",
       "      <th>Age</th>\n",
       "    </tr>\n",
       "  </thead>\n",
       "  <tbody>\n",
       "    <tr>\n",
       "      <th>Mean</th>\n",
       "      <td>76486.86</td>\n",
       "      <td>650.50</td>\n",
       "      <td>1.53</td>\n",
       "      <td>39.43</td>\n",
       "    </tr>\n",
       "    <tr>\n",
       "      <th>Standard Deviation</th>\n",
       "      <td>62399.55</td>\n",
       "      <td>96.64</td>\n",
       "      <td>0.58</td>\n",
       "      <td>10.50</td>\n",
       "    </tr>\n",
       "    <tr>\n",
       "      <th>Maximum</th>\n",
       "      <td>250898.09</td>\n",
       "      <td>850.00</td>\n",
       "      <td>4.00</td>\n",
       "      <td>93.00</td>\n",
       "    </tr>\n",
       "    <tr>\n",
       "      <th>Minimum</th>\n",
       "      <td>0.00</td>\n",
       "      <td>350.00</td>\n",
       "      <td>1.00</td>\n",
       "      <td>18.00</td>\n",
       "    </tr>\n",
       "  </tbody>\n",
       "</table>\n",
       "</div>"
      ],
      "text/plain": [
       "                    Account Balance  Credit Score  Number of Products    Age\n",
       "Mean                       76486.86        650.50                1.53  39.43\n",
       "Standard Deviation         62399.55         96.64                0.58  10.50\n",
       "Maximum                   250898.09        850.00                4.00  93.00\n",
       "Minimum                        0.00        350.00                1.00  18.00"
      ]
     },
     "execution_count": 23,
     "metadata": {},
     "output_type": "execute_result"
    }
   ],
   "source": [
    "def statistics(feature):\n",
    "    mean = round(feature.mean(),2)\n",
    "    std = round(feature.std(),2)\n",
    "    maximum = round(feature.max(),2)\n",
    "    minimum = round(feature.min(),2)\n",
    "    return [mean, std, maximum, minimum]\n",
    "\n",
    "d = {'Account Balance': statistics(clients_final_table['account_balance']), 'Credit Score': statistics(clients_final_table['credit_score']),\n",
    "    'Number of Products': statistics(clients_final_table['number_of_products']), 'Age': statistics(clients_final_table['age'])}\n",
    "df = pd.DataFrame(data=d)\n",
    "df = df.rename(index={0: \"Mean\", 1: \"Standard Deviation\", 2: \"Maximum\", 3: \"Minimum\"})\n",
    "df"
   ]
  },
  {
   "cell_type": "markdown",
   "metadata": {
    "id": "BD6AId9E8kpr"
   },
   "source": [
    "# Building the model"
   ]
  },
  {
   "cell_type": "markdown",
   "metadata": {},
   "source": [
    "It was necessary to obtain a variable to differentiate between clients which left KS early and those which did not. In this regard, it was necessary to obtain the difference between 'exit_date' and 'application date', and to give those fields with NaN values a special treatment. The special treatment consistet in replacing NaN with the 'delivery date' after the first calculation, and then if that individual has NaN in the new field, then the difference between 'delivery_date' and 'application_date' was applied. This was done because of those clients who had already more than two years of suscription time to Kin Safety and have not left yet."
   ]
  },
  {
   "cell_type": "code",
   "execution_count": 24,
   "metadata": {
    "executionInfo": {
     "elapsed": 15023,
     "status": "ok",
     "timestamp": 1617122582593,
     "user": {
      "displayName": "SANTIAGO ALEXIS POZO RUIZ",
      "photoUrl": "https://lh3.googleusercontent.com/a-/AOh14GjmwHMd0IYt2BRNluH8bAPyA8mcaYpTtFharMk5fkA=s64",
      "userId": "13986554362570769425"
     },
     "user_tz": 300
    },
    "id": "gcaiMnB08kps"
   },
   "outputs": [],
   "source": [
    "clients_final_table['ks_apptime'] = (pd.to_datetime(clients_final_table['exit_date']).dt.year - \n",
    " pd.to_datetime(clients_final_table['application_date']).dt.year)\n",
    "clients_final_table.loc[clients_final_table['ks_apptime'] >= 2, 'left_early?'] = 0\n",
    "clients_final_table.loc[clients_final_table['ks_apptime'] < 2, 'left_early?'] = 1\n",
    "\n",
    "clients_final_table['exit_date'].replace({pd.NaT:np.datetime64('2019-11-30')}, inplace=True)\n",
    "clients_final_table['new_ks_apptime'] = (pd.to_datetime(clients_final_table['exit_date']).dt.year - \n",
    " pd.to_datetime(clients_final_table['application_date']).dt.year)\n",
    "\n",
    "clients_final_table.loc[(np.isnan(clients_final_table['ks_apptime']) == True)\n",
    "                        & (clients_final_table['new_ks_apptime'] >= 2), 'left_early?'] = 0\n",
    "clients_final_table.loc[(np.isnan(clients_final_table['ks_apptime']) == True)\n",
    "                        & (clients_final_table['new_ks_apptime'] < 2), 'left_early?'] = 1"
   ]
  },
  {
   "cell_type": "markdown",
   "metadata": {},
   "source": [
    "Variables withouth predictive power were removed and others were given a proper format"
   ]
  },
  {
   "cell_type": "code",
   "execution_count": 25,
   "metadata": {
    "executionInfo": {
     "elapsed": 15022,
     "status": "ok",
     "timestamp": 1617122582594,
     "user": {
      "displayName": "SANTIAGO ALEXIS POZO RUIZ",
      "photoUrl": "https://lh3.googleusercontent.com/a-/AOh14GjmwHMd0IYt2BRNluH8bAPyA8mcaYpTtFharMk5fkA=s64",
      "userId": "13986554362570769425"
     },
     "user_tz": 300
    },
    "id": "InZRP-p_8kps"
   },
   "outputs": [],
   "source": [
    "clients_final_table = clients_final_table.drop(columns = ['CustomerId', 'Surname', 'IsActiveMember', \n",
    "                                            'birth_date', 'application_date', 'exit_date', 'ks_apptime', 'new_ks_apptime'])\n",
    "clients_final_table['left_early?'] = clients_final_table['left_early?'].astype(int)\n",
    "clients_final_table['HasCrCard'] = clients_final_table['HasCrCard'].astype(int)"
   ]
  },
  {
   "cell_type": "code",
   "execution_count": 26,
   "metadata": {
    "colab": {
     "base_uri": "https://localhost:8080/",
     "height": 195
    },
    "executionInfo": {
     "elapsed": 15019,
     "status": "ok",
     "timestamp": 1617122582596,
     "user": {
      "displayName": "SANTIAGO ALEXIS POZO RUIZ",
      "photoUrl": "https://lh3.googleusercontent.com/a-/AOh14GjmwHMd0IYt2BRNluH8bAPyA8mcaYpTtFharMk5fkA=s64",
      "userId": "13986554362570769425"
     },
     "user_tz": 300
    },
    "id": "5G-3-v198kpt",
    "outputId": "81c55b43-847c-4a39-b8ed-1672c8b09d8f"
   },
   "outputs": [
    {
     "data": {
      "text/html": [
       "<div>\n",
       "<style scoped>\n",
       "    .dataframe tbody tr th:only-of-type {\n",
       "        vertical-align: middle;\n",
       "    }\n",
       "\n",
       "    .dataframe tbody tr th {\n",
       "        vertical-align: top;\n",
       "    }\n",
       "\n",
       "    .dataframe thead th {\n",
       "        text-align: right;\n",
       "    }\n",
       "</style>\n",
       "<table border=\"1\" class=\"dataframe\">\n",
       "  <thead>\n",
       "    <tr style=\"text-align: right;\">\n",
       "      <th></th>\n",
       "      <th>Geography</th>\n",
       "      <th>Gender</th>\n",
       "      <th>HasCrCard</th>\n",
       "      <th>EstimatedSalary</th>\n",
       "      <th>credit_score</th>\n",
       "      <th>account_balance</th>\n",
       "      <th>number_of_products</th>\n",
       "      <th>age</th>\n",
       "      <th>left_early?</th>\n",
       "    </tr>\n",
       "  </thead>\n",
       "  <tbody>\n",
       "    <tr>\n",
       "      <th>0</th>\n",
       "      <td>Germany</td>\n",
       "      <td>Female</td>\n",
       "      <td>0</td>\n",
       "      <td>167673.37</td>\n",
       "      <td>678</td>\n",
       "      <td>128644.46</td>\n",
       "      <td>1</td>\n",
       "      <td>41</td>\n",
       "      <td>0</td>\n",
       "    </tr>\n",
       "    <tr>\n",
       "      <th>1</th>\n",
       "      <td>Germany</td>\n",
       "      <td>Male</td>\n",
       "      <td>1</td>\n",
       "      <td>36579.53</td>\n",
       "      <td>647</td>\n",
       "      <td>93960.35</td>\n",
       "      <td>1</td>\n",
       "      <td>45</td>\n",
       "      <td>1</td>\n",
       "    </tr>\n",
       "    <tr>\n",
       "      <th>2</th>\n",
       "      <td>Germany</td>\n",
       "      <td>Female</td>\n",
       "      <td>1</td>\n",
       "      <td>189339.60</td>\n",
       "      <td>460</td>\n",
       "      <td>102742.91</td>\n",
       "      <td>2</td>\n",
       "      <td>35</td>\n",
       "      <td>0</td>\n",
       "    </tr>\n",
       "    <tr>\n",
       "      <th>3</th>\n",
       "      <td>France</td>\n",
       "      <td>Male</td>\n",
       "      <td>0</td>\n",
       "      <td>156731.91</td>\n",
       "      <td>533</td>\n",
       "      <td>85311.70</td>\n",
       "      <td>1</td>\n",
       "      <td>37</td>\n",
       "      <td>0</td>\n",
       "    </tr>\n",
       "    <tr>\n",
       "      <th>4</th>\n",
       "      <td>Germany</td>\n",
       "      <td>Male</td>\n",
       "      <td>1</td>\n",
       "      <td>79366.98</td>\n",
       "      <td>586</td>\n",
       "      <td>106968.96</td>\n",
       "      <td>1</td>\n",
       "      <td>47</td>\n",
       "      <td>1</td>\n",
       "    </tr>\n",
       "  </tbody>\n",
       "</table>\n",
       "</div>"
      ],
      "text/plain": [
       "  Geography  Gender  HasCrCard  EstimatedSalary  credit_score  \\\n",
       "0   Germany  Female          0        167673.37           678   \n",
       "1   Germany    Male          1         36579.53           647   \n",
       "2   Germany  Female          1        189339.60           460   \n",
       "3    France    Male          0        156731.91           533   \n",
       "4   Germany    Male          1         79366.98           586   \n",
       "\n",
       "   account_balance  number_of_products  age  left_early?  \n",
       "0        128644.46                   1   41            0  \n",
       "1         93960.35                   1   45            1  \n",
       "2        102742.91                   2   35            0  \n",
       "3         85311.70                   1   37            0  \n",
       "4        106968.96                   1   47            1  "
      ]
     },
     "execution_count": 26,
     "metadata": {},
     "output_type": "execute_result"
    }
   ],
   "source": [
    "clients_final_table.head()"
   ]
  },
  {
   "cell_type": "markdown",
   "metadata": {},
   "source": [
    "Transformation of categorical variables to an integer encoding"
   ]
  },
  {
   "cell_type": "code",
   "execution_count": 27,
   "metadata": {
    "executionInfo": {
     "elapsed": 15018,
     "status": "ok",
     "timestamp": 1617122582598,
     "user": {
      "displayName": "SANTIAGO ALEXIS POZO RUIZ",
      "photoUrl": "https://lh3.googleusercontent.com/a-/AOh14GjmwHMd0IYt2BRNluH8bAPyA8mcaYpTtFharMk5fkA=s64",
      "userId": "13986554362570769425"
     },
     "user_tz": 300
    },
    "id": "7TwkwFcv8kpt"
   },
   "outputs": [],
   "source": [
    "def encoding_categorical(data):\n",
    "    values = np.array(data)\n",
    "    # integer encode\n",
    "    label_encoder = LabelEncoder()\n",
    "    integer_encoded = label_encoder.fit_transform(values)\n",
    "    # binary encode\n",
    "#     onehot_encoder = OneHotEncoder(sparse=False)\n",
    "#     integer_encoded = integer_encoded.reshape(len(integer_encoded), 1)\n",
    "#     onehot_encoded = onehot_encoder.fit_transform(integer_encoded)\n",
    "    return integer_encoded\n",
    "\n",
    "clients_final_table['Geography'] = encoding_categorical(clients_final_table['Geography'])\n",
    "clients_final_table['Gender'] = encoding_categorical(clients_final_table['Gender'])"
   ]
  },
  {
   "cell_type": "code",
   "execution_count": 28,
   "metadata": {
    "colab": {
     "base_uri": "https://localhost:8080/",
     "height": 195
    },
    "executionInfo": {
     "elapsed": 15244,
     "status": "ok",
     "timestamp": 1617122582834,
     "user": {
      "displayName": "SANTIAGO ALEXIS POZO RUIZ",
      "photoUrl": "https://lh3.googleusercontent.com/a-/AOh14GjmwHMd0IYt2BRNluH8bAPyA8mcaYpTtFharMk5fkA=s64",
      "userId": "13986554362570769425"
     },
     "user_tz": 300
    },
    "id": "c-IsjhXx8kpu",
    "outputId": "436d6036-91a7-4c12-8769-dddc744912d4",
    "scrolled": false
   },
   "outputs": [
    {
     "data": {
      "text/html": [
       "<div>\n",
       "<style scoped>\n",
       "    .dataframe tbody tr th:only-of-type {\n",
       "        vertical-align: middle;\n",
       "    }\n",
       "\n",
       "    .dataframe tbody tr th {\n",
       "        vertical-align: top;\n",
       "    }\n",
       "\n",
       "    .dataframe thead th {\n",
       "        text-align: right;\n",
       "    }\n",
       "</style>\n",
       "<table border=\"1\" class=\"dataframe\">\n",
       "  <thead>\n",
       "    <tr style=\"text-align: right;\">\n",
       "      <th></th>\n",
       "      <th>Geography</th>\n",
       "      <th>Gender</th>\n",
       "      <th>HasCrCard</th>\n",
       "      <th>EstimatedSalary</th>\n",
       "      <th>credit_score</th>\n",
       "      <th>account_balance</th>\n",
       "      <th>number_of_products</th>\n",
       "      <th>age</th>\n",
       "      <th>left_early?</th>\n",
       "    </tr>\n",
       "  </thead>\n",
       "  <tbody>\n",
       "    <tr>\n",
       "      <th>0</th>\n",
       "      <td>1</td>\n",
       "      <td>0</td>\n",
       "      <td>0</td>\n",
       "      <td>167673.37</td>\n",
       "      <td>678</td>\n",
       "      <td>128644.46</td>\n",
       "      <td>1</td>\n",
       "      <td>41</td>\n",
       "      <td>0</td>\n",
       "    </tr>\n",
       "    <tr>\n",
       "      <th>1</th>\n",
       "      <td>1</td>\n",
       "      <td>1</td>\n",
       "      <td>1</td>\n",
       "      <td>36579.53</td>\n",
       "      <td>647</td>\n",
       "      <td>93960.35</td>\n",
       "      <td>1</td>\n",
       "      <td>45</td>\n",
       "      <td>1</td>\n",
       "    </tr>\n",
       "    <tr>\n",
       "      <th>2</th>\n",
       "      <td>1</td>\n",
       "      <td>0</td>\n",
       "      <td>1</td>\n",
       "      <td>189339.60</td>\n",
       "      <td>460</td>\n",
       "      <td>102742.91</td>\n",
       "      <td>2</td>\n",
       "      <td>35</td>\n",
       "      <td>0</td>\n",
       "    </tr>\n",
       "    <tr>\n",
       "      <th>3</th>\n",
       "      <td>0</td>\n",
       "      <td>1</td>\n",
       "      <td>0</td>\n",
       "      <td>156731.91</td>\n",
       "      <td>533</td>\n",
       "      <td>85311.70</td>\n",
       "      <td>1</td>\n",
       "      <td>37</td>\n",
       "      <td>0</td>\n",
       "    </tr>\n",
       "    <tr>\n",
       "      <th>4</th>\n",
       "      <td>1</td>\n",
       "      <td>1</td>\n",
       "      <td>1</td>\n",
       "      <td>79366.98</td>\n",
       "      <td>586</td>\n",
       "      <td>106968.96</td>\n",
       "      <td>1</td>\n",
       "      <td>47</td>\n",
       "      <td>1</td>\n",
       "    </tr>\n",
       "  </tbody>\n",
       "</table>\n",
       "</div>"
      ],
      "text/plain": [
       "   Geography  Gender  HasCrCard  EstimatedSalary  credit_score  \\\n",
       "0          1       0          0        167673.37           678   \n",
       "1          1       1          1         36579.53           647   \n",
       "2          1       0          1        189339.60           460   \n",
       "3          0       1          0        156731.91           533   \n",
       "4          1       1          1         79366.98           586   \n",
       "\n",
       "   account_balance  number_of_products  age  left_early?  \n",
       "0        128644.46                   1   41            0  \n",
       "1         93960.35                   1   45            1  \n",
       "2        102742.91                   2   35            0  \n",
       "3         85311.70                   1   37            0  \n",
       "4        106968.96                   1   47            1  "
      ]
     },
     "execution_count": 28,
     "metadata": {},
     "output_type": "execute_result"
    }
   ],
   "source": [
    "clients_final_table.head()"
   ]
  },
  {
   "cell_type": "markdown",
   "metadata": {},
   "source": [
    "To check if a feature selection method was needed, a correlation plot was generated. It can be noticed that no significat correlation exists between variables, therefore, all of them present predictive power."
   ]
  },
  {
   "cell_type": "code",
   "execution_count": 29,
   "metadata": {},
   "outputs": [],
   "source": [
    "#The following line is useful in case of the need to convert back the dataset from an array to a DataFrame\n",
    "features = ['Geography', 'Gender','HasCrCard', 'EstimatedSalary', \n",
    "            'credit_score', 'account_balance','number_of_products','age']"
   ]
  },
  {
   "cell_type": "code",
   "execution_count": 30,
   "metadata": {},
   "outputs": [
    {
     "data": {
      "image/png": "[encoded data removed]",
      "text/plain": [
       "<Figure size 1368x1080 with 2 Axes>"
      ]
     },
     "metadata": {
      "needs_background": "light"
     },
     "output_type": "display_data"
    }
   ],
   "source": [
    "f = plt.figure(figsize=(19, 15))\n",
    "plt.matshow(clients_final_table[features].corr(), fignum=f.number)\n",
    "plt.xticks(range(clients_final_table[features].select_dtypes(['number']).shape[1]),\n",
    "           clients_final_table[features].select_dtypes(['number']).columns, fontsize=14, rotation=45)\n",
    "plt.yticks(range(clients_final_table[features].select_dtypes(['number']).shape[1]), \n",
    "           clients_final_table[features].select_dtypes(['number']).columns, fontsize=14)\n",
    "cb = plt.colorbar()\n",
    "cb.ax.tick_params(labelsize=14)\n",
    "plt.title('Correlation Matrix', fontsize=16);"
   ]
  },
  {
   "cell_type": "markdown",
   "metadata": {},
   "source": [
    "In the first prediction attempts, it was noticed that data is umbalanced, therefore it produced biased results with high accuracy values, but low F1-Score, Precision, and the most important value in this study which is Recall (Prediction accuracy of clients who left KS before two years)"
   ]
  },
  {
   "cell_type": "code",
   "execution_count": 31,
   "metadata": {
    "colab": {
     "base_uri": "https://localhost:8080/"
    },
    "executionInfo": {
     "elapsed": 15236,
     "status": "ok",
     "timestamp": 1617122582835,
     "user": {
      "displayName": "SANTIAGO ALEXIS POZO RUIZ",
      "photoUrl": "https://lh3.googleusercontent.com/a-/AOh14GjmwHMd0IYt2BRNluH8bAPyA8mcaYpTtFharMk5fkA=s64",
      "userId": "13986554362570769425"
     },
     "user_tz": 300
    },
    "id": "uHfux-6k8kpv",
    "outputId": "c9ff067b-f40b-4714-dc4e-41f593680ade"
   },
   "outputs": [
    {
     "data": {
      "text/plain": [
       "0    8527\n",
       "1    1470\n",
       "Name: left_early?, dtype: int64"
      ]
     },
     "execution_count": 31,
     "metadata": {},
     "output_type": "execute_result"
    }
   ],
   "source": [
    "clients_final_table['left_early?'].value_counts()"
   ]
  },
  {
   "cell_type": "markdown",
   "metadata": {},
   "source": [
    "The approach used to fix the problem of unbalance data was one of undersampling. This approach was taken over an oversampling approach because in first place, there is enough data to undersample, but on the other hand, the difference between one class and the other is big and oversampling would produce a great amount of artificial data which might produce biased results"
   ]
  },
  {
   "cell_type": "code",
   "execution_count": 32,
   "metadata": {
    "executionInfo": {
     "elapsed": 15233,
     "status": "ok",
     "timestamp": 1617122582837,
     "user": {
      "displayName": "SANTIAGO ALEXIS POZO RUIZ",
      "photoUrl": "https://lh3.googleusercontent.com/a-/AOh14GjmwHMd0IYt2BRNluH8bAPyA8mcaYpTtFharMk5fkA=s64",
      "userId": "13986554362570769425"
     },
     "user_tz": 300
    },
    "id": "9SAPYY-t8kpv"
   },
   "outputs": [],
   "source": [
    "X_majority = clients_final_table.loc[clients_final_table['left_early?'] == 0] #Class with most records\n",
    "X_minority = clients_final_table.loc[clients_final_table['left_early?'] == 1] #Class with the minority of records"
   ]
  },
  {
   "cell_type": "markdown",
   "metadata": {},
   "source": [
    "The Cluster Centroid based Majority Under-sampling Technique (CCMUT) was used in this case. It complete description can be found at: https://towardsdatascience.com/implementation-of-cluster-centroid-based-majority-under-sampling-technique-ccmut-in-python-f006a96ed41c"
   ]
  },
  {
   "cell_type": "code",
   "execution_count": 33,
   "metadata": {
    "executionInfo": {
     "elapsed": 15231,
     "status": "ok",
     "timestamp": 1617122582837,
     "user": {
      "displayName": "SANTIAGO ALEXIS POZO RUIZ",
      "photoUrl": "https://lh3.googleusercontent.com/a-/AOh14GjmwHMd0IYt2BRNluH8bAPyA8mcaYpTtFharMk5fkA=s64",
      "userId": "13986554362570769425"
     },
     "user_tz": 300
    },
    "id": "CHVnba1D8kpv"
   },
   "outputs": [],
   "source": [
    "def CCMUT(X,f):\n",
    "    # 1. finding cluster centroid....\n",
    "    cluster_centroid = np.sum(X,axis=0)/X.shape[0]\n",
    "    # 2. finding Euclidean Distance from cluster centroid to samples\n",
    "    euclidean = [None]*X.shape[0]\n",
    "    for i in range(0,X.shape[0]):\n",
    "        euclidean[i] = sqrt(sum((cluster_centroid-X[i])**2))\n",
    "    # 3. tracking indices of samples in descending order of distance\n",
    "    indices = list(reversed(sorted(range(len(euclidean)), \n",
    "    key = lambda j: euclidean[j])))\n",
    "    # 4. removing the instances or under-sampling order-wise....\n",
    "    X_f = np.delete(X, indices[:int(f/100*X.shape[0])], axis=0)\n",
    "    # 5. returning the under-sampled Majority Sample Matrix\n",
    "    return X_f\n",
    "\n",
    "#CCMUT is applied in the majority class, and a reduction of about 80% is performed\n",
    "X_majority = CCMUT(np.asarray(X_majority), 80)\n",
    "X_majority = pd.DataFrame(X_majority,columns= features + ['left_early?'])"
   ]
  },
  {
   "cell_type": "markdown",
   "metadata": {},
   "source": [
    "Data is not umbalanced anymore"
   ]
  },
  {
   "cell_type": "code",
   "execution_count": 34,
   "metadata": {
    "colab": {
     "base_uri": "https://localhost:8080/"
    },
    "executionInfo": {
     "elapsed": 399,
     "status": "ok",
     "timestamp": 1617122705857,
     "user": {
      "displayName": "SANTIAGO ALEXIS POZO RUIZ",
      "photoUrl": "https://lh3.googleusercontent.com/a-/AOh14GjmwHMd0IYt2BRNluH8bAPyA8mcaYpTtFharMk5fkA=s64",
      "userId": "13986554362570769425"
     },
     "user_tz": 300
    },
    "id": "36aWKEOOBeKR",
    "outputId": "9dda1666-528c-4917-95f1-a488e251ff2f"
   },
   "outputs": [
    {
     "data": {
      "text/plain": [
       "0.0    1706\n",
       "1.0    1470\n",
       "Name: left_early?, dtype: int64"
      ]
     },
     "execution_count": 34,
     "metadata": {},
     "output_type": "execute_result"
    }
   ],
   "source": [
    "clients_final_table = pd.concat([X_majority, X_minority], ignore_index=True)\n",
    "clients_final_table['left_early?'].value_counts()"
   ]
  },
  {
   "cell_type": "markdown",
   "metadata": {},
   "source": [
    "The following cells divide the dataset and the labels, and Standardize features by removing the mean and scaling to unit variance"
   ]
  },
  {
   "cell_type": "code",
   "execution_count": 35,
   "metadata": {
    "executionInfo": {
     "elapsed": 15231,
     "status": "ok",
     "timestamp": 1617122582839,
     "user": {
      "displayName": "SANTIAGO ALEXIS POZO RUIZ",
      "photoUrl": "https://lh3.googleusercontent.com/a-/AOh14GjmwHMd0IYt2BRNluH8bAPyA8mcaYpTtFharMk5fkA=s64",
      "userId": "13986554362570769425"
     },
     "user_tz": 300
    },
    "id": "-ERstKWH8kpw"
   },
   "outputs": [],
   "source": [
    "X = clients_final_table[features]\n",
    "y = clients_final_table[['left_early?']]\n",
    "X = np.asarray(X)\n",
    "y = np.asarray(y)"
   ]
  },
  {
   "cell_type": "code",
   "execution_count": 36,
   "metadata": {
    "executionInfo": {
     "elapsed": 15632,
     "status": "ok",
     "timestamp": 1617122583244,
     "user": {
      "displayName": "SANTIAGO ALEXIS POZO RUIZ",
      "photoUrl": "https://lh3.googleusercontent.com/a-/AOh14GjmwHMd0IYt2BRNluH8bAPyA8mcaYpTtFharMk5fkA=s64",
      "userId": "13986554362570769425"
     },
     "user_tz": 300
    },
    "id": "eYaJVBM88kpx"
   },
   "outputs": [],
   "source": [
    "#Scale Dataset\n",
    "scaler = StandardScaler().fit(X)\n",
    "X = scaler.transform(X)"
   ]
  },
  {
   "cell_type": "markdown",
   "metadata": {},
   "source": [
    "Performance measures were tested through a cross-validation method which allow us to avoid biased results due to the selection of the train and test dataset"
   ]
  },
  {
   "cell_type": "code",
   "execution_count": 37,
   "metadata": {
    "executionInfo": {
     "elapsed": 16350,
     "status": "ok",
     "timestamp": 1617122583974,
     "user": {
      "displayName": "SANTIAGO ALEXIS POZO RUIZ",
      "photoUrl": "https://lh3.googleusercontent.com/a-/AOh14GjmwHMd0IYt2BRNluH8bAPyA8mcaYpTtFharMk5fkA=s64",
      "userId": "13986554362570769425"
     },
     "user_tz": 300
    },
    "id": "BpeRuWXh8kpy"
   },
   "outputs": [],
   "source": [
    "# prepare configuration for cross validation test harness\n",
    "seed = 151461\n",
    "folds = ShuffleSplit(n_splits=10, test_size=0.30, random_state=seed) #ShuffleSplit\n",
    "# folds = StratifiedShuffleSplit(n_splits=10, test_size=0.30, random_state=seed) #StratifiedShuffleSplit"
   ]
  },
  {
   "cell_type": "markdown",
   "metadata": {},
   "source": [
    "# Testing Machine Learning Classifiers"
   ]
  },
  {
   "cell_type": "markdown",
   "metadata": {},
   "source": [
    "Ada Boost Classifier"
   ]
  },
  {
   "cell_type": "code",
   "execution_count": 38,
   "metadata": {
    "colab": {
     "base_uri": "https://localhost:8080/"
    },
    "executionInfo": {
     "elapsed": 24873,
     "status": "ok",
     "timestamp": 1617122592502,
     "user": {
      "displayName": "SANTIAGO ALEXIS POZO RUIZ",
      "photoUrl": "https://lh3.googleusercontent.com/a-/AOh14GjmwHMd0IYt2BRNluH8bAPyA8mcaYpTtFharMk5fkA=s64",
      "userId": "13986554362570769425"
     },
     "user_tz": 300
    },
    "id": "doZ_zZ908kpz",
    "outputId": "6cd2ba9e-5ab9-4b00-9cdf-a25518da7dbc"
   },
   "outputs": [
    {
     "name": "stdout",
     "output_type": "stream",
     "text": [
      "Accuracy: 0.861 (+/- 0.015)\n",
      "F1-Score: 0.840 (+/- 0.019)\n",
      "Precision: 0.905 (+/- 0.030)\n",
      "Recall: 0.784 (+/- 0.038)\n"
     ]
    }
   ],
   "source": [
    "clf =  AdaBoostClassifier()\n",
    "accuraccy_Ada, f1_Ada, recall_Ada = cross_vald(clf, folds, X, y)"
   ]
  },
  {
   "cell_type": "markdown",
   "metadata": {},
   "source": [
    "Gaussian Naive Bayes"
   ]
  },
  {
   "cell_type": "code",
   "execution_count": 39,
   "metadata": {
    "colab": {
     "base_uri": "https://localhost:8080/"
    },
    "executionInfo": {
     "elapsed": 25106,
     "status": "ok",
     "timestamp": 1617122592738,
     "user": {
      "displayName": "SANTIAGO ALEXIS POZO RUIZ",
      "photoUrl": "https://lh3.googleusercontent.com/a-/AOh14GjmwHMd0IYt2BRNluH8bAPyA8mcaYpTtFharMk5fkA=s64",
      "userId": "13986554362570769425"
     },
     "user_tz": 300
    },
    "id": "H0lDpXKY8kpz",
    "outputId": "38745c34-95fe-44e1-cc34-b93cdf88d418"
   },
   "outputs": [
    {
     "name": "stdout",
     "output_type": "stream",
     "text": [
      "Accuracy: 0.814 (+/- 0.019)\n",
      "F1-Score: 0.781 (+/- 0.021)\n",
      "Precision: 0.859 (+/- 0.041)\n",
      "Recall: 0.717 (+/- 0.039)\n"
     ]
    }
   ],
   "source": [
    "clf =  GaussianNB()\n",
    "accuraccy_NB, f1_NB, recall_NB = cross_vald(clf, folds, X, y)"
   ]
  },
  {
   "cell_type": "markdown",
   "metadata": {},
   "source": [
    "Quadratic Discriminant Analysis"
   ]
  },
  {
   "cell_type": "code",
   "execution_count": 40,
   "metadata": {
    "colab": {
     "base_uri": "https://localhost:8080/"
    },
    "executionInfo": {
     "elapsed": 25480,
     "status": "ok",
     "timestamp": 1617122593114,
     "user": {
      "displayName": "SANTIAGO ALEXIS POZO RUIZ",
      "photoUrl": "https://lh3.googleusercontent.com/a-/AOh14GjmwHMd0IYt2BRNluH8bAPyA8mcaYpTtFharMk5fkA=s64",
      "userId": "13986554362570769425"
     },
     "user_tz": 300
    },
    "id": "FVBnKwml8kpz",
    "outputId": "dc491e3a-3ec2-4825-d7a7-e182e76ff8b2"
   },
   "outputs": [
    {
     "name": "stdout",
     "output_type": "stream",
     "text": [
      "Accuracy: 0.817 (+/- 0.017)\n",
      "F1-Score: 0.785 (+/- 0.022)\n",
      "Precision: 0.860 (+/- 0.039)\n",
      "Recall: 0.724 (+/- 0.043)\n"
     ]
    }
   ],
   "source": [
    "clf =  QuadraticDiscriminantAnalysis()\n",
    "accuraccy_QDA, f1_QDA, recall_QDA = cross_vald(clf, folds, X, y)"
   ]
  },
  {
   "cell_type": "markdown",
   "metadata": {},
   "source": [
    "Support Vector Machine"
   ]
  },
  {
   "cell_type": "code",
   "execution_count": 41,
   "metadata": {},
   "outputs": [],
   "source": [
    "# clf = SVC()\n",
    "\n",
    "# parameter_space = {\n",
    "#     'C': [1, 10, 15, 20, 25, 30, 50, 55, 60, 80],\n",
    "#     'kernel': ['poly', 'rbf', 'sigmoid'],\n",
    "#     'degree': [3,5],\n",
    "#     'gamma': ['scale', 'auto']\n",
    "# }\n",
    "\n",
    "# clf = find_best_param(clf, folds, X, y, parameter_space, scoring = 'recall')"
   ]
  },
  {
   "cell_type": "code",
   "execution_count": 42,
   "metadata": {},
   "outputs": [],
   "source": [
    "# print_best_param(clf, 0.80, 0.03)"
   ]
  },
  {
   "cell_type": "code",
   "execution_count": 43,
   "metadata": {
    "colab": {
     "base_uri": "https://localhost:8080/"
    },
    "executionInfo": {
     "elapsed": 34614,
     "status": "ok",
     "timestamp": 1617122602251,
     "user": {
      "displayName": "SANTIAGO ALEXIS POZO RUIZ",
      "photoUrl": "https://lh3.googleusercontent.com/a-/AOh14GjmwHMd0IYt2BRNluH8bAPyA8mcaYpTtFharMk5fkA=s64",
      "userId": "13986554362570769425"
     },
     "user_tz": 300
    },
    "id": "lVYruX5L8kpz",
    "outputId": "38a1d9d8-cde0-4825-ffc0-da94dce4ceb0"
   },
   "outputs": [
    {
     "name": "stdout",
     "output_type": "stream",
     "text": [
      "Accuracy: 0.866 (+/- 0.014)\n",
      "F1-Score: 0.848 (+/- 0.015)\n",
      "Precision: 0.897 (+/- 0.023)\n",
      "Recall: 0.804 (+/- 0.030)\n"
     ]
    }
   ],
   "source": [
    "clf = SVC(C=10, kernel = 'rbf', degree = 3, gamma = 'scale')\n",
    "accuraccy_SVC, f1_SVC, recall_SVC = cross_vald(clf, folds, X, y)"
   ]
  },
  {
   "cell_type": "markdown",
   "metadata": {},
   "source": [
    "k-Nearest Neighborhoods"
   ]
  },
  {
   "cell_type": "code",
   "execution_count": 44,
   "metadata": {},
   "outputs": [],
   "source": [
    "# clf = KNeighborsClassifier()\n",
    "\n",
    "# parameter_space = {\n",
    "#     'n_neighbors': [1, 3, 4, 5, 10, 15, 20],\n",
    "#     'weights': ['uniform', 'distance'],\n",
    "#     'p': [1, 2]\n",
    "# }\n",
    "\n",
    "# clf = find_best_param(clf, folds, X, y, parameter_space, scoring = 'recall')"
   ]
  },
  {
   "cell_type": "code",
   "execution_count": 45,
   "metadata": {},
   "outputs": [],
   "source": [
    "# print_best_param(clf, 0.715, 0.04)"
   ]
  },
  {
   "cell_type": "code",
   "execution_count": 46,
   "metadata": {
    "colab": {
     "base_uri": "https://localhost:8080/"
    },
    "executionInfo": {
     "elapsed": 35607,
     "status": "ok",
     "timestamp": 1617122603252,
     "user": {
      "displayName": "SANTIAGO ALEXIS POZO RUIZ",
      "photoUrl": "https://lh3.googleusercontent.com/a-/AOh14GjmwHMd0IYt2BRNluH8bAPyA8mcaYpTtFharMk5fkA=s64",
      "userId": "13986554362570769425"
     },
     "user_tz": 300
    },
    "id": "bdyu53Nk8kp0",
    "outputId": "8eb2154b-a9ce-4082-d545-9ef8513a347e"
   },
   "outputs": [
    {
     "name": "stdout",
     "output_type": "stream",
     "text": [
      "Accuracy: 0.778 (+/- 0.024)\n",
      "F1-Score: 0.750 (+/- 0.025)\n",
      "Precision: 0.783 (+/- 0.036)\n",
      "Recall: 0.720 (+/- 0.037)\n"
     ]
    }
   ],
   "source": [
    "clf = KNeighborsClassifier(n_neighbors = 1, p=1, weights='uniform')\n",
    "accuraccy_kNN, f1_kNN, recall_kNN = cross_vald(clf, folds, X, y)"
   ]
  },
  {
   "cell_type": "markdown",
   "metadata": {},
   "source": [
    "Random Forest Classifier"
   ]
  },
  {
   "cell_type": "code",
   "execution_count": 47,
   "metadata": {},
   "outputs": [],
   "source": [
    "# clf = RandomForestClassifier()\n",
    "\n",
    "# parameter_space = {\n",
    "#     'n_estimators': [50, 100, 200, 300, 350],\n",
    "#     'max_depth': [None, 10, 100, 200],\n",
    "#     'criterion': ['gini', 'entropy'],\n",
    "#     'min_samples_split': [2, 5, 10, 20, 50],\n",
    "#     'max_features': ['sqrt','log2'],\n",
    "# }\n",
    "\n",
    "# clf = find_best_param(clf, folds, X, y, parameter_space, scoring = 'recall')"
   ]
  },
  {
   "cell_type": "code",
   "execution_count": 48,
   "metadata": {},
   "outputs": [],
   "source": [
    "# print_best_param(clf, 0.811, 0.035)"
   ]
  },
  {
   "cell_type": "code",
   "execution_count": 49,
   "metadata": {
    "colab": {
     "base_uri": "https://localhost:8080/"
    },
    "executionInfo": {
     "elapsed": 53499,
     "status": "ok",
     "timestamp": 1617122621152,
     "user": {
      "displayName": "SANTIAGO ALEXIS POZO RUIZ",
      "photoUrl": "https://lh3.googleusercontent.com/a-/AOh14GjmwHMd0IYt2BRNluH8bAPyA8mcaYpTtFharMk5fkA=s64",
      "userId": "13986554362570769425"
     },
     "user_tz": 300
    },
    "id": "ELxCCmtY8kp0",
    "outputId": "19e1696a-8cac-4030-cfa2-9c3fb3e7a290"
   },
   "outputs": [
    {
     "name": "stdout",
     "output_type": "stream",
     "text": [
      "Accuracy: 0.872 (+/- 0.013)\n",
      "F1-Score: 0.856 (+/- 0.015)\n",
      "Precision: 0.899 (+/- 0.027)\n",
      "Recall: 0.807 (+/- 0.032)\n"
     ]
    }
   ],
   "source": [
    "clf = RandomForestClassifier(criterion = 'gini', max_depth = None,\n",
    "                             max_features = 'sqrt', min_samples_split = 5, \n",
    "                             n_estimators = 50)\n",
    "accuraccy_RF, f1_RF, recall_RF = cross_vald(clf, folds, X, y)"
   ]
  },
  {
   "cell_type": "markdown",
   "metadata": {},
   "source": [
    "Confusion matrix and classification score report for an instance of Random Forest"
   ]
  },
  {
   "cell_type": "code",
   "execution_count": 50,
   "metadata": {},
   "outputs": [
    {
     "name": "stdout",
     "output_type": "stream",
     "text": [
      "              precision    recall  f1-score   support\n",
      "\n",
      "         0.0       0.84      0.93      0.88       510\n",
      "         1.0       0.91      0.80      0.85       443\n",
      "\n",
      "    accuracy                           0.87       953\n",
      "   macro avg       0.88      0.87      0.87       953\n",
      "weighted avg       0.87      0.87      0.87       953\n",
      "\n"
     ]
    }
   ],
   "source": [
    "X_train, X_test, y_train, y_test = train_test_split(\n",
    "        X, y, random_state=seed, test_size = 0.3)\n",
    "clf.fit(X_train, np.ravel(y_train))\n",
    "\n",
    "y_pred = clf.predict(X_test)\n",
    "print(classification_report(y_test, y_pred))"
   ]
  },
  {
   "cell_type": "code",
   "execution_count": 51,
   "metadata": {},
   "outputs": [
    {
     "data": {
      "image/png": "[encoded data removed]",
      "text/plain": [
       "<Figure size 432x288 with 2 Axes>"
      ]
     },
     "metadata": {
      "needs_background": "light"
     },
     "output_type": "display_data"
    }
   ],
   "source": [
    "plot_confusion_matrix(clf, X_test, y_test)  \n",
    "plt.show() "
   ]
  },
  {
   "cell_type": "markdown",
   "metadata": {},
   "source": [
    "Multilayer Perceptron"
   ]
  },
  {
   "cell_type": "code",
   "execution_count": 52,
   "metadata": {
    "executionInfo": {
     "elapsed": 53496,
     "status": "ok",
     "timestamp": 1617122621155,
     "user": {
      "displayName": "SANTIAGO ALEXIS POZO RUIZ",
      "photoUrl": "https://lh3.googleusercontent.com/a-/AOh14GjmwHMd0IYt2BRNluH8bAPyA8mcaYpTtFharMk5fkA=s64",
      "userId": "13986554362570769425"
     },
     "user_tz": 300
    },
    "id": "egPq6o268kp1"
   },
   "outputs": [],
   "source": [
    "def warn(*args, **kwargs):\n",
    "    pass\n",
    "import warnings\n",
    "warnings.warn = warn"
   ]
  },
  {
   "cell_type": "code",
   "execution_count": 53,
   "metadata": {},
   "outputs": [],
   "source": [
    "# clf = MLPClassifier()\n",
    "\n",
    "# parameter_space = {\n",
    "#     'hidden_layer_sizes': [(50,50,50), (50,100,50), (100,)],\n",
    "#     'activation': ['tanh', 'relu'],\n",
    "#     'solver': ['sgd', 'lbfgs'],\n",
    "#     'alpha': [0.0001, 0.05],\n",
    "#     'learning_rate': ['constant','adaptive'],\n",
    "# }\n",
    "\n",
    "# clf = find_best_param(clf, folds, X, y, parameter_space, scoring = 'recall')"
   ]
  },
  {
   "cell_type": "code",
   "execution_count": 54,
   "metadata": {},
   "outputs": [],
   "source": [
    "# print_best_param(clf, 0.8, 0.028)"
   ]
  },
  {
   "cell_type": "code",
   "execution_count": 55,
   "metadata": {
    "colab": {
     "base_uri": "https://localhost:8080/"
    },
    "executionInfo": {
     "elapsed": 107627,
     "status": "ok",
     "timestamp": 1617122675288,
     "user": {
      "displayName": "SANTIAGO ALEXIS POZO RUIZ",
      "photoUrl": "https://lh3.googleusercontent.com/a-/AOh14GjmwHMd0IYt2BRNluH8bAPyA8mcaYpTtFharMk5fkA=s64",
      "userId": "13986554362570769425"
     },
     "user_tz": 300
    },
    "id": "HysLv40h8kp1",
    "outputId": "0a02bc89-e173-4779-a0d4-f4653e85cd3e"
   },
   "outputs": [
    {
     "name": "stdout",
     "output_type": "stream",
     "text": [
      "Accuracy: 0.821 (+/- 0.015)\n",
      "F1-Score: 0.816 (+/- 0.009)\n",
      "Precision: 0.810 (+/- 0.031)\n",
      "Recall: 0.826 (+/- 0.037)\n"
     ]
    }
   ],
   "source": [
    "clf = MLPClassifier(activation = 'relu', alpha = 0.0001, \n",
    "                    hidden_layer_sizes = (100,), \n",
    "                    learning_rate = 'adaptive', solver = 'lbfgs')\n",
    "accuraccy_MLP, f1_MLP, recall_MLP = cross_vald(clf, folds, X, y)"
   ]
  },
  {
   "cell_type": "markdown",
   "metadata": {},
   "source": [
    "Confusion matrix and classification score report for an instance of MLP"
   ]
  },
  {
   "cell_type": "code",
   "execution_count": 56,
   "metadata": {},
   "outputs": [
    {
     "name": "stdout",
     "output_type": "stream",
     "text": [
      "              precision    recall  f1-score   support\n",
      "\n",
      "         0.0       0.83      0.83      0.83       510\n",
      "         1.0       0.81      0.81      0.81       443\n",
      "\n",
      "    accuracy                           0.82       953\n",
      "   macro avg       0.82      0.82      0.82       953\n",
      "weighted avg       0.82      0.82      0.82       953\n",
      "\n"
     ]
    }
   ],
   "source": [
    "X_train, X_test, y_train, y_test = train_test_split(\n",
    "        X, y, random_state=seed, test_size = 0.3)\n",
    "clf.fit(X_train, np.ravel(y_train))\n",
    "\n",
    "y_pred = clf.predict(X_test)\n",
    "print(classification_report(y_test, y_pred))"
   ]
  },
  {
   "cell_type": "code",
   "execution_count": 57,
   "metadata": {},
   "outputs": [
    {
     "data": {
      "image/png": "[encoded data removed]",
      "text/plain": [
       "<Figure size 432x288 with 2 Axes>"
      ]
     },
     "metadata": {
      "needs_background": "light"
     },
     "output_type": "display_data"
    }
   ],
   "source": [
    "plot_confusion_matrix(clf, X_test, y_test)  \n",
    "plt.show() "
   ]
  },
  {
   "cell_type": "markdown",
   "metadata": {},
   "source": [
    "# Performance Boxplots generation"
   ]
  },
  {
   "cell_type": "code",
   "execution_count": 58,
   "metadata": {
    "executionInfo": {
     "elapsed": 107622,
     "status": "ok",
     "timestamp": 1617122675290,
     "user": {
      "displayName": "SANTIAGO ALEXIS POZO RUIZ",
      "photoUrl": "https://lh3.googleusercontent.com/a-/AOh14GjmwHMd0IYt2BRNluH8bAPyA8mcaYpTtFharMk5fkA=s64",
      "userId": "13986554362570769425"
     },
     "user_tz": 300
    },
    "id": "Z2pqcuYV8kp2"
   },
   "outputs": [],
   "source": [
    "acc = np.concatenate([np.reshape(accuraccy_Ada,(folds.get_n_splits(),1)),\n",
    "                      np.reshape(accuraccy_NB,(folds.get_n_splits(),1)),\n",
    "                      np.reshape(accuraccy_QDA,(folds.get_n_splits(),1)),\n",
    "                      np.reshape(accuraccy_SVC,(folds.get_n_splits(),1)), \n",
    "                      np.reshape(accuraccy_kNN,(folds.get_n_splits(),1)), \n",
    "                      np.reshape(accuraccy_RF,(folds.get_n_splits(),1)), \n",
    "                      np.reshape(accuraccy_MLP,(folds.get_n_splits(),1))],axis=1)\n",
    "\n",
    "f1 = np.concatenate([np.reshape(f1_Ada,(folds.get_n_splits(),1)),\n",
    "                      np.reshape(f1_NB,(folds.get_n_splits(),1)),\n",
    "                      np.reshape(f1_QDA,(folds.get_n_splits(),1)),\n",
    "                      np.reshape(f1_SVC,(folds.get_n_splits(),1)), \n",
    "                      np.reshape(f1_kNN,(folds.get_n_splits(),1)), \n",
    "                      np.reshape(f1_RF,(folds.get_n_splits(),1)), \n",
    "                      np.reshape(f1_MLP,(folds.get_n_splits(),1))],axis=1)\n",
    "\n",
    "recall = np.concatenate([np.reshape(recall_Ada,(folds.get_n_splits(),1)),\n",
    "                      np.reshape(recall_NB,(folds.get_n_splits(),1)),\n",
    "                      np.reshape(recall_QDA,(folds.get_n_splits(),1)),\n",
    "                      np.reshape(recall_SVC,(folds.get_n_splits(),1)), \n",
    "                      np.reshape(recall_kNN,(folds.get_n_splits(),1)), \n",
    "                      np.reshape(recall_RF,(folds.get_n_splits(),1)), \n",
    "                      np.reshape(recall_MLP,(folds.get_n_splits(),1))],axis=1)"
   ]
  },
  {
   "cell_type": "code",
   "execution_count": 59,
   "metadata": {
    "executionInfo": {
     "elapsed": 107620,
     "status": "ok",
     "timestamp": 1617122675290,
     "user": {
      "displayName": "SANTIAGO ALEXIS POZO RUIZ",
      "photoUrl": "https://lh3.googleusercontent.com/a-/AOh14GjmwHMd0IYt2BRNluH8bAPyA8mcaYpTtFharMk5fkA=s64",
      "userId": "13986554362570769425"
     },
     "user_tz": 300
    },
    "id": "TX2U-8Ak8kp2"
   },
   "outputs": [],
   "source": [
    "accdf = pd.DataFrame(acc,columns=['Ada','NB','QDA','SVC', 'KNN', 'RandFor', 'MLP'])\n",
    "f1df = pd.DataFrame(f1,columns=['Ada','NB','QDA','SVC', 'KNN', 'RandFor', 'MLP'])\n",
    "recalldf = pd.DataFrame(recall,columns=['Ada','NB','QDA','SVC', 'KNN', 'RandFor', 'MLP'])"
   ]
  },
  {
   "cell_type": "code",
   "execution_count": 60,
   "metadata": {
    "colab": {
     "base_uri": "https://localhost:8080/",
     "height": 295
    },
    "executionInfo": {
     "elapsed": 108306,
     "status": "ok",
     "timestamp": 1617122675978,
     "user": {
      "displayName": "SANTIAGO ALEXIS POZO RUIZ",
      "photoUrl": "https://lh3.googleusercontent.com/a-/AOh14GjmwHMd0IYt2BRNluH8bAPyA8mcaYpTtFharMk5fkA=s64",
      "userId": "13986554362570769425"
     },
     "user_tz": 300
    },
    "id": "vYWXSHTF8kp2",
    "outputId": "abda3537-604d-45b7-bac1-0014af158c2c"
   },
   "outputs": [
    {
     "data": {
      "image/png": "[encoded data removed]",
      "text/plain": [
       "<Figure size 432x288 with 3 Axes>"
      ]
     },
     "metadata": {
      "needs_background": "light"
     },
     "output_type": "display_data"
    }
   ],
   "source": [
    "boxplots(accdf, f1df, recalldf)"
   ]
  },
  {
   "cell_type": "code",
   "execution_count": null,
   "metadata": {},
   "outputs": [],
   "source": []
  }
 ],
 "metadata": {
  "colab": {
   "name": "Kin_Security_Predictor.ipynb",
   "provenance": [],
   "toc_visible": true
  },
  "kernelspec": {
   "display_name": "Python 3",
   "language": "python",
   "name": "python3"
  },
  "language_info": {
   "codemirror_mode": {
    "name": "ipython",
    "version": 3
   },
   "file_extension": ".py",
   "mimetype": "text/x-python",
   "name": "python",
   "nbconvert_exporter": "python",
   "pygments_lexer": "ipython3",
   "version": "3.8.5"
  }
 },
 "nbformat": 4,
 "nbformat_minor": 1
}
